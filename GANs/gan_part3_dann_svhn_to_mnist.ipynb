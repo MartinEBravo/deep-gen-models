{
 "cells": [
  {
   "cell_type": "markdown",
   "id": "8bf0ff6e",
   "metadata": {},
   "source": [
    "# Important\n",
    "\n",
    "This code used a lot of GPU, due to time constraints and the fact that I am not able to use GPU, I only used $epoch=3$, even though I don't reach the desired accuracy, It can be seen that the model is on the right track. I hope this helps you in some way. (Each model took about 1 hour to train with the standard Colab GPU)"
   ]
  },
  {
   "cell_type": "markdown",
   "id": "BX_vXMz0EUdr",
   "metadata": {
    "id": "BX_vXMz0EUdr"
   },
   "source": [
    "# GANs &ndash; Part 3: Adversarial domain adaptation (SVHN &rarr; MNIST)\n",
    "\n",
    "Author: Sebastian Bujwid <bujwid@kth.se>\n",
    "\n",
    "Refer to [./README.md](./README.md) for general comments.\n",
    "\n",
    "## Scope\n",
    "\n",
    "- Train a CNN on SVHN digits classification. Evaluate it on MNIST (same classes)\n",
    "- Implement and train an adversarial domain adaptation model [DANN](https://www.jmlr.org/papers/volume17/15-239/15-239.pdf). The model trains on SVHN data together with MNIST samples without labels. Evaluate the trained model on MNIST\n",
    "\n",
    "![SVHN and MNIST digits](./imgs/svhn_and_mnist.png)\n",
    "\n",
    "## Domain adaptation\n",
    "\n",
    "A model trained on data source would often perform the same task much worse on data from a different source (different data distribution). Consider, for example, a digit classifier trained on SVHN and evaluated on MNIST, as in this part of the practical.\n",
    "\n",
    "The goal of domain adaptation is to use source domain data (SVHN in our case) to train a model that works well on the target domain (MNIST in our case). In domain adaptation, we consider source and target tasks to be the same (classification of digits). In this setting, one typically assumes access to target domain samples but not their labels.\n",
    "\n",
    "Domain adaptation can be especially beneficial when source domain data is easily available but target data is difficult to label.\n",
    "Many factors might cause the difficulty of labeling target data.\n",
    "It could be because labeling target data is just too costly. Consider, for example, the cost of labeling real (target) data for training a robot, compared to using automatically extracting ground-truth from a robot simulator (e.g., [GraspGAN](https://ieeexplore.ieee.org/document/8460875), [GANerated Hands](https://handtracker.mpi-inf.mpg.de/projects/GANeratedHands/content/GANeratedHands_CVPR2018.pdf)), or medical data that requires specialized domain knowledge to annotate and data from different facilities or capturing devices (such as CT scans) can have noticeable differences (e.g., [Mahmood _et al_. (2018)](https://ieeexplore.ieee.org/document/8370747), [Chen _et al._ (2019)](https://arxiv.org/abs/1901.08211)).\n",
    "But the challenges of labeling target data can also be due to time constraints when conditions quickly change (e.g., a pandemic), or in extreme cases, the conditions might change (e.g., problem difficulty increasing) even as a result of deploying a model that has a direct or indirect impact on the environment (e.g., consider social media companies using \"AI\" to detect hate speech, etc.).\n",
    "\n",
    "There exist different domain adaptation approaches. In this practical, however, we will only use an adversarial domain adaptation where a discriminator is used to force the model to learn domain-invariant representation (similar for between the source & target domains). That should hopefully make the model overfit less to the source domain."
   ]
  },
  {
   "cell_type": "markdown",
   "id": "4zPPyeUrEIoX",
   "metadata": {
    "id": "4zPPyeUrEIoX"
   },
   "source": [
    "**I will use 3 epochs due to GPU constraints**"
   ]
  },
  {
   "cell_type": "code",
   "execution_count": null,
   "id": "cNhWWRg-vwek",
   "metadata": {
    "id": "cNhWWRg-vwek"
   },
   "outputs": [],
   "source": [
    "num_epochs = 3"
   ]
  },
  {
   "cell_type": "code",
   "execution_count": null,
   "id": "e11ac3bb",
   "metadata": {
    "id": "e11ac3bb"
   },
   "outputs": [],
   "source": [
    "try:\n",
    "    from omegaconf import OmegaConf\n",
    "except ModuleNotFoundError:\n",
    "    %pip install omegaconf\n",
    "    from omegaconf import OmegaConf"
   ]
  },
  {
   "cell_type": "code",
   "execution_count": null,
   "id": "eLbTWqsBEUdt",
   "metadata": {
    "id": "eLbTWqsBEUdt"
   },
   "outputs": [],
   "source": [
    "import jax\n",
    "import jax.numpy as jnp\n",
    "from jax.example_libraries import optimizers, stax\n",
    "from jax import jit"
   ]
  },
  {
   "cell_type": "code",
   "execution_count": null,
   "id": "YPzazK_uEUdt",
   "metadata": {
    "colab": {
     "base_uri": "https://localhost:8080/"
    },
    "id": "YPzazK_uEUdt",
    "outputId": "ea1140e0-1976-465d-e2bd-19e185b5a3c2"
   },
   "outputs": [
    {
     "data": {
      "text/plain": [
       "[CudaDevice(id=0)]"
      ]
     },
     "execution_count": 4,
     "metadata": {},
     "output_type": "execute_result"
    }
   ],
   "source": [
    "jax.devices()"
   ]
  },
  {
   "cell_type": "code",
   "execution_count": null,
   "id": "u0CeyzLdEUdu",
   "metadata": {
    "id": "u0CeyzLdEUdu"
   },
   "outputs": [],
   "source": [
    "import tensorflow as tf\n",
    "import tensorflow_datasets as tfds"
   ]
  },
  {
   "cell_type": "code",
   "execution_count": null,
   "id": "HCJHxaQtEUdu",
   "metadata": {
    "id": "HCJHxaQtEUdu"
   },
   "outputs": [],
   "source": [
    "import numpy as np\n",
    "import matplotlib.pyplot as plt\n",
    "import seaborn as sns"
   ]
  },
  {
   "cell_type": "code",
   "execution_count": null,
   "id": "4tNVUunHEUdu",
   "metadata": {
    "id": "4tNVUunHEUdu"
   },
   "outputs": [],
   "source": [
    "seed = 42"
   ]
  },
  {
   "cell_type": "markdown",
   "id": "uRYzOCy2EUdu",
   "metadata": {
    "id": "uRYzOCy2EUdu"
   },
   "source": [
    "# Implementation"
   ]
  },
  {
   "cell_type": "markdown",
   "id": "1u-V_lrnEUdu",
   "metadata": {
    "id": "1u-V_lrnEUdu"
   },
   "source": [
    "## Loading data"
   ]
  },
  {
   "cell_type": "code",
   "execution_count": null,
   "id": "cjpuKfiIEUdu",
   "metadata": {
    "id": "cjpuKfiIEUdu"
   },
   "outputs": [],
   "source": [
    "def mnist_to_svhn_format(images):\n",
    "    return tf.image.grayscale_to_rgb(\n",
    "        tf.image.resize(images, [32 ,32])\n",
    "    )\n",
    "\n",
    "def preprocess_imgs(images):\n",
    "    return tf.image.per_image_standardization(\n",
    "        tf.cast(images, tf.float32) / 255.,\n",
    "    )"
   ]
  },
  {
   "cell_type": "code",
   "execution_count": null,
   "id": "soBlB8OxEUdu",
   "metadata": {
    "colab": {
     "base_uri": "https://localhost:8080/",
     "height": 200,
     "referenced_widgets": [
      "0db75e4258bb41569becf72f5d2c7f9e",
      "3e66f6734b704109931842fef4be05d5",
      "fe598ee3a702497c8f46ee5d00ddfb7f",
      "027ff01200094cce87ce6bb2e043b08f",
      "332e46b07a814591a6944c3ec03ac8bb",
      "ac4dca0c194b4d868b21dfa70f1dcfed",
      "dca7c490d02148fb8dcfecbab5bee163",
      "ee83168658434125af2fa4f6df02d2ab",
      "26cb4b15afdf4a23b7cb796127b9e129",
      "6a80449e9a3e45aa9df2263632926c73",
      "2f7a05b497de45768a53ec8eb803e099",
      "98a0b06c503a40ab94f0fa35d9166139",
      "631e909edc53441e87a5dfa46e9da43b",
      "433abedc955749579f46e9f18076273b",
      "0c687fbdca804ed6a431323f47064074",
      "5b49f208a0584a96ba55b94ebbd40c96",
      "116f1a12c0ce406eb819c2c607d27527",
      "76d7a54eede04c9c98e3107fd4abef3f",
      "e5b357c610fd4db8b8edf9b7d6c26b89",
      "0dc3b1f3bfc049bcb85fd1a275f2ce00",
      "c06622165a3b40b782f70286b068c64d",
      "38429dc746db4e689f572ead5193e2ef",
      "3d7ba489dbbd468ab9359d58504be662",
      "dc13796a3611411bbad2b86cdaa04972",
      "2925360fdd7e4125b33747337e05808e",
      "5ccadc031265404a8ab703f89d205459",
      "1bfa460ef3614c34aa2ae3c01a78891c",
      "d88d6496d8ca4d309020685ef503980d",
      "851d1dc45111430fb31189664914cd38",
      "a684242573dc4c9f869d8bcf895a568c",
      "427a541cbcbc4502a8b7bb1ef42bf0a3",
      "0c632a010f8e4f7b8cbe4ff1d484b7f3",
      "119b5e43204a434e92dc98fbc6faa720",
      "7b51fb040c0745258149e6a57216d461",
      "1f1d4cf500c34a5ca946c32f0c0f7cf7",
      "24d8ec101b884739b83ffc39a275b55e",
      "63085ab0b4ee45309fe5fa9b02c424d8",
      "e9a29df6ddf64866823d72c6c6f28316",
      "d088f0f6acf543bb80122868807b0c4a",
      "88bcfdd1b8294d0f8581af7f61edf7a4",
      "b76f2b17885042c6853f38e485cca459",
      "c121b9feebc44ba59d11ff5016b1aa0e",
      "e95c0b68b96641d8af6978740c74a2c7",
      "582273d3e3f442b19a2649c271d9666f",
      "b98db5ab4dc84762bb5daf665d0cfe31",
      "884cfbefcf9e4dcc871399e01258da2a",
      "fae06fa3fe3143a6821b453d6dbcc00d",
      "0dfc740944ce43668c25ac3c5749f777",
      "9a364de3adad48dd9a35dfba0bee3b45",
      "9a5468061a2e40ee80e0764893af0c45",
      "b51c812794034cc7b96b1e02c8716af8",
      "7929496c46fa43d9908e14d5cd9a5472",
      "a5bb35a0e7b0478d80fa8cd8d9439715",
      "01d3a8c811af4bc3adf3d5b207b710b6",
      "db9dcf4f40e24e4094c8073f6b28ba2e",
      "a1e3ff1774a1487b98e00d1013c15841",
      "3f2e128f667e46309b1134f83f5ee0c2",
      "d79b37a2931448da992fd327b2d0e66a",
      "6b725ff68038400d85a889abbed5f0fb",
      "49bc818d5d484039b011872984fc7fdb",
      "0c7e9da1947c42a9b0165fd5dd9278ad",
      "f88b680bc70e41d694e74c4cbbd555bd",
      "208dd952680f4e0a9b50f12b933cc647",
      "3d996de8e707478fad34b91a8bee4f97",
      "48f1b68f87c34c3f91e40a0a1953c951",
      "329a18a5ef8646ef93af158fde6de169",
      "709e3820d18240728fc34ab8cc2b5016",
      "9ad688aed3e540fdb0ea32921788b2b7",
      "c927bb52707a44599c4c7f33551d5c97",
      "057fca36ba644a43b09a51a9c4baad74",
      "288fbe959f3a4ec39e688b1eeb31fad9",
      "80f8e11d96a84f96a975300d88d23dbf",
      "5bebb6df40e54a07ad640537d41b134f",
      "0b8bb552ad244d42b9533322686131e7",
      "f969257e3cfc4176ba569026bb2dda89",
      "412b5771d4894ac8a7e31468b0c9710c",
      "a593e100a02d45b086cfe0a19f65dcba",
      "4b8b2a69f8d9459b8e89e51e04f952f5",
      "5cbdd8939bcc4a0f8705c473fac2a384",
      "e0c0bc60c05f4bcd9916a32fc2a36865",
      "68141c60f449436bb262d94fbc1293c7",
      "b02f10eb5e77438db2bf55e2d5afb2d7",
      "74ca43cb263c427e8d3d5f483d49ac42",
      "966ea959aa9942ec931573b4892a363f",
      "ffbfafc04f734382a3fd9661b84dc706",
      "eebbed72e7034c3e87951f260ccf5c74",
      "37cfd22d96ef4b0297d785a0a00d1704",
      "5daf4be2bade427494273d922b65126d",
      "6dd0364e92ad43edad77a82423748ab6",
      "70e77f19b6244fe69c1cd4bfba2eda1e",
      "97dda9c4160c45aca8b1442bca7ad291",
      "0ba932b44ba84615a42c3b987d6d3473",
      "d50de704ec3b4e14801fdae63c9e5e03",
      "f4b1a2ba11aa4966a347ca690124f308",
      "38549af09a5641f488052b2fdd045fa1",
      "655d1a1007fd4e9caa3ce0d9eb47f3ee",
      "59aebfe26aaa440fbed5dcca6cf28790",
      "0bebf6efeb504ebaa62f92578b38f945",
      "64e9ead1bbaa4987a2ae6f711c48c371",
      "979a251cf4ce4754b4a6944994549214",
      "8557f562132a482db83dbd6119fd85c0",
      "fa25449b9b0d41039ce001d8cf834a82",
      "0c08618582044c8ab31378cfd0c10b3e",
      "0314a5dafcb34d22ab636b802abc529d",
      "cf0e96f9450847c9b80425450ebacf1a",
      "7378406252964ec8a7d953e0b37a79ce",
      "8681cb29bd68437497f0c61040afe178",
      "89990f8cbe54421e9c8b1214daca8485",
      "ddccef96f0e7476c976c0463ae6e50ac",
      "aec5eadbbd154a11861a337b270d058c"
     ]
    },
    "id": "soBlB8OxEUdu",
    "outputId": "e660c174-d7b6-46f5-f685-c4c10ae9f2df"
   },
   "outputs": [
    {
     "name": "stdout",
     "output_type": "stream",
     "text": [
      "Downloading and preparing dataset 11.06 MiB (download: 11.06 MiB, generated: 21.00 MiB, total: 32.06 MiB) to data_dir/mnist/3.0.1...\n"
     ]
    },
    {
     "data": {
      "application/vnd.jupyter.widget-view+json": {
       "model_id": "0db75e4258bb41569becf72f5d2c7f9e",
       "version_major": 2,
       "version_minor": 0
      },
      "text/plain": [
       "Dl Completed...:   0%|          | 0/5 [00:00<?, ? file/s]"
      ]
     },
     "metadata": {},
     "output_type": "display_data"
    },
    {
     "name": "stdout",
     "output_type": "stream",
     "text": [
      "Dataset mnist downloaded and prepared to data_dir/mnist/3.0.1. Subsequent calls will reuse this data.\n",
      "Downloading and preparing dataset 1.47 GiB (download: 1.47 GiB, generated: 1.09 GiB, total: 2.56 GiB) to data_dir/svhn_cropped/3.1.0...\n"
     ]
    },
    {
     "data": {
      "application/vnd.jupyter.widget-view+json": {
       "model_id": "98a0b06c503a40ab94f0fa35d9166139",
       "version_major": 2,
       "version_minor": 0
      },
      "text/plain": [
       "Dl Completed...: 0 url [00:00, ? url/s]"
      ]
     },
     "metadata": {},
     "output_type": "display_data"
    },
    {
     "data": {
      "application/vnd.jupyter.widget-view+json": {
       "model_id": "3d7ba489dbbd468ab9359d58504be662",
       "version_major": 2,
       "version_minor": 0
      },
      "text/plain": [
       "Dl Size...: 0 MiB [00:00, ? MiB/s]"
      ]
     },
     "metadata": {},
     "output_type": "display_data"
    },
    {
     "data": {
      "application/vnd.jupyter.widget-view+json": {
       "model_id": "7b51fb040c0745258149e6a57216d461",
       "version_major": 2,
       "version_minor": 0
      },
      "text/plain": [
       "Generating splits...:   0%|          | 0/3 [00:00<?, ? splits/s]"
      ]
     },
     "metadata": {},
     "output_type": "display_data"
    },
    {
     "data": {
      "application/vnd.jupyter.widget-view+json": {
       "model_id": "b98db5ab4dc84762bb5daf665d0cfe31",
       "version_major": 2,
       "version_minor": 0
      },
      "text/plain": [
       "Generating train examples...:   0%|          | 0/73257 [00:00<?, ? examples/s]"
      ]
     },
     "metadata": {},
     "output_type": "display_data"
    },
    {
     "data": {
      "application/vnd.jupyter.widget-view+json": {
       "model_id": "a1e3ff1774a1487b98e00d1013c15841",
       "version_major": 2,
       "version_minor": 0
      },
      "text/plain": [
       "Shuffling data_dir/svhn_cropped/incomplete.29I6G6_3.1.0/svhn_cropped-train.tfrecord*...:   0%|          | 0/73…"
      ]
     },
     "metadata": {},
     "output_type": "display_data"
    },
    {
     "data": {
      "application/vnd.jupyter.widget-view+json": {
       "model_id": "709e3820d18240728fc34ab8cc2b5016",
       "version_major": 2,
       "version_minor": 0
      },
      "text/plain": [
       "Generating test examples...:   0%|          | 0/26032 [00:00<?, ? examples/s]"
      ]
     },
     "metadata": {},
     "output_type": "display_data"
    },
    {
     "data": {
      "application/vnd.jupyter.widget-view+json": {
       "model_id": "4b8b2a69f8d9459b8e89e51e04f952f5",
       "version_major": 2,
       "version_minor": 0
      },
      "text/plain": [
       "Shuffling data_dir/svhn_cropped/incomplete.29I6G6_3.1.0/svhn_cropped-test.tfrecord*...:   0%|          | 0/260…"
      ]
     },
     "metadata": {},
     "output_type": "display_data"
    },
    {
     "data": {
      "application/vnd.jupyter.widget-view+json": {
       "model_id": "6dd0364e92ad43edad77a82423748ab6",
       "version_major": 2,
       "version_minor": 0
      },
      "text/plain": [
       "Generating extra examples...:   0%|          | 0/531131 [00:00<?, ? examples/s]"
      ]
     },
     "metadata": {},
     "output_type": "display_data"
    },
    {
     "data": {
      "application/vnd.jupyter.widget-view+json": {
       "model_id": "979a251cf4ce4754b4a6944994549214",
       "version_major": 2,
       "version_minor": 0
      },
      "text/plain": [
       "Shuffling data_dir/svhn_cropped/incomplete.29I6G6_3.1.0/svhn_cropped-extra.tfrecord*...:   0%|          | 0/53…"
      ]
     },
     "metadata": {},
     "output_type": "display_data"
    },
    {
     "name": "stdout",
     "output_type": "stream",
     "text": [
      "Dataset svhn_cropped downloaded and prepared to data_dir/svhn_cropped/3.1.0. Subsequent calls will reuse this data.\n"
     ]
    }
   ],
   "source": [
    "def mnist_dataset(data):\n",
    "    ds = data.map(lambda x: (preprocess_imgs(mnist_to_svhn_format(x['image'])), x['label']),\n",
    "                  num_parallel_calls=tf.data.experimental.AUTOTUNE)\n",
    "    ds = ds.cache()  # You might want to remove it if have little memory\n",
    "    ds = ds.shuffle(100000)\n",
    "    return ds\n",
    "\n",
    "def svhn_dataset(data):\n",
    "    ds = data.map(lambda x: (preprocess_imgs(x['image']), x['label']),\n",
    "                  num_parallel_calls=tf.data.experimental.AUTOTUNE)\n",
    "    ds = ds.cache()  # You might want to remove it if have little memory\n",
    "    ds = ds.shuffle(100000)\n",
    "    return ds\n",
    "\n",
    "data_mnist, data_mnist_dev = tfds.load(\n",
    "    'mnist',\n",
    "    split=['train[:50%]', 'train[50%:]'],\n",
    "    shuffle_files=True,\n",
    "    data_dir='./data_dir')\n",
    "data_mnist_test = tfds.load('mnist', split='test', shuffle_files=True,\n",
    "                            data_dir='./data_dir')\n",
    "\n",
    "data_svhn = tfds.load('svhn_cropped', split='train', shuffle_files=True,\n",
    "                      data_dir='./data_dir')\n",
    "data_svhn_test = tfds.load('svhn_cropped', split='test', shuffle_files=True,\n",
    "                           data_dir='./data_dir')\n",
    "\n",
    "ds_mnist = mnist_dataset(data_mnist)\n",
    "ds_mnist_dev = mnist_dataset(data_mnist_dev)\n",
    "ds_mnist_test = mnist_dataset(data_mnist_test)\n",
    "\n",
    "ds_svhn = svhn_dataset(data_svhn)\n",
    "ds_svhn_test = svhn_dataset(data_svhn_test)"
   ]
  },
  {
   "cell_type": "markdown",
   "id": "nsD5ws_gEUdu",
   "metadata": {
    "id": "nsD5ws_gEUdu"
   },
   "source": [
    "## (Task) Implement `sparse_softmax_cross_entropy` function\n",
    "\n",
    "The function should compute the cross-entropy between the input `targets` and softmax of the `logits` (or be equivalent to these operations).\n",
    "\"Sparse\" refers to the `targets` being `int` values indicating target classes and not probability distributions over all class values.\n",
    "\n",
    "Similarly, to `sigmoid_cross_entropy` from Part 1, implementing softmax + cross-entropy as a single function can be beneficial."
   ]
  },
  {
   "cell_type": "code",
   "execution_count": null,
   "id": "NJi0ze6LEUdv",
   "metadata": {
    "id": "NJi0ze6LEUdv"
   },
   "outputs": [],
   "source": [
    "import jax\n",
    "import jax.numpy as jnp\n",
    "\n",
    "def sparse_softmax_cross_entropy(*, targets, logits):\n",
    "    \"\"\"\n",
    "    Compute sparse softmax cross-entropy loss.\n",
    "\n",
    "    :param targets: Sparse ground truth class indices, shape (batch_size,)\n",
    "    :param logits: Logits from the model, shape (batch_size, num_classes)\n",
    "    :return: Sparse softmax cross-entropy loss, scalar.\n",
    "    \"\"\"\n",
    "    assert targets.ndim == logits.ndim - 1\n",
    "\n",
    "    exp_logits = jnp.exp(logits)\n",
    "\n",
    "    softmax_probs = exp_logits / jnp.sum(exp_logits, axis=-1, keepdims=True)\n",
    "\n",
    "    target_probs = softmax_probs[jnp.arange(len(targets)), targets]\n",
    "\n",
    "    loss = -jnp.log(target_probs)\n",
    "\n",
    "    return loss\n"
   ]
  },
  {
   "cell_type": "markdown",
   "id": "aazg5hKwEUdv",
   "metadata": {
    "id": "aazg5hKwEUdv"
   },
   "source": [
    "### (Task) Test the `sparse_softmax_cross_entropy` function"
   ]
  },
  {
   "cell_type": "code",
   "execution_count": null,
   "id": "qOPz2VTZEUdv",
   "metadata": {
    "id": "qOPz2VTZEUdv"
   },
   "outputs": [],
   "source": [
    "logits = jnp.array(\n",
    "    [\n",
    "        [-0.12, -5., 4.2, -1.],\n",
    "        [0.42, 0.13, -0.1, -0.48],\n",
    "        [0.1, 0.2, 0.3, 0.4,],\n",
    "    ]\n",
    ")\n",
    "targets = jnp.array([0, 3, 2])\n",
    "returned = sparse_softmax_cross_entropy(targets=targets, logits=logits)\n",
    "\n",
    "expected_mean_ce_loss = 2.53088073318352\n",
    "np.testing.assert_allclose(expected_mean_ce_loss, jnp.mean(returned))"
   ]
  },
  {
   "cell_type": "markdown",
   "id": "-UZ677jpEUdv",
   "metadata": {
    "id": "-UZ677jpEUdv"
   },
   "source": [
    "### (Optional task) Numerically stable `sparse_softmax_cross_entropy` loss\n",
    "\n",
    "Can you implement the function such that it logits with a very large magnitude? Try rewriting the entire expression! Think of over- and underflows!\n",
    "\n",
    "Hint: You might find `jax.nn.logsumexp` useful!"
   ]
  },
  {
   "cell_type": "code",
   "execution_count": null,
   "id": "SgyT8AuFEUdv",
   "metadata": {
    "colab": {
     "base_uri": "https://localhost:8080/"
    },
    "id": "SgyT8AuFEUdv",
    "outputId": "e4db7f32-fd09-4383-9cfe-b309cca62097"
   },
   "outputs": [
    {
     "name": "stdout",
     "output_type": "stream",
     "text": [
      "(3,)\n",
      "(3, 4)\n"
     ]
    }
   ],
   "source": [
    "import jax\n",
    "import jax.numpy as jnp\n",
    "\n",
    "def sparse_softmax_cross_entropy(*, targets, logits):\n",
    "    \"\"\"\n",
    "    Numerically stable sparse softmax cross-entropy loss.\n",
    "\n",
    "    :param targets: Sparse ground truth class indices, shape (batch_size,)\n",
    "    :param logits: Logits from the model, shape (batch_size, num_classes)\n",
    "    :return: Sparse softmax cross-entropy loss, scalar.\n",
    "    \"\"\"\n",
    "    assert targets.ndim == logits.ndim - 1, \"Targets must have one dimension less than logits\"\n",
    "\n",
    "    print(targets.shape)\n",
    "    print(logits.shape)\n",
    "\n",
    "    # Compute log-sum-exp in a numerically stable way\n",
    "    logsumexp = jax.nn.logsumexp(logits, axis=-1)  # Shape: (batch_size,)\n",
    "\n",
    "    # Gather logits of the true class\n",
    "    true_logits = logits[jnp.arange(logits.shape[0]), targets]  # Shape: (batch_size,)\n",
    "\n",
    "    # Compute the cross-entropy loss\n",
    "    loss = -true_logits + logsumexp  # Shape: (batch_size,)\n",
    "\n",
    "    # Return the mean loss across the batch\n",
    "    return jnp.mean(loss)\n",
    "\n",
    "returned = sparse_softmax_cross_entropy(targets=targets, logits=logits * 1000.)\n",
    "\n",
    "expected_mean_ce_loss = 1773.3333333333333\n",
    "np.testing.assert_allclose(expected_mean_ce_loss, jnp.mean(returned))"
   ]
  },
  {
   "cell_type": "code",
   "execution_count": null,
   "id": "Ad6k4OmJS-ve",
   "metadata": {
    "id": "Ad6k4OmJS-ve"
   },
   "outputs": [],
   "source": [
    "import jax\n",
    "import jax.numpy as jnp\n",
    "\n",
    "def sparse_softmax_cross_entropy(*, targets, logits):\n",
    "    \"\"\"\n",
    "    Compute sparse softmax cross-entropy loss.\n",
    "\n",
    "    :param targets: Sparse ground truth class indices, shape (batch_size,)\n",
    "    :param logits: Logits from the model, shape (batch_size, num_classes)\n",
    "    :return: Sparse softmax cross-entropy loss, scalar.\n",
    "    \"\"\"\n",
    "    assert targets.ndim == logits.ndim - 1\n",
    "\n",
    "    exp_logits = jnp.exp(logits)\n",
    "\n",
    "    softmax_probs = exp_logits / jnp.sum(exp_logits, axis=-1, keepdims=True)\n",
    "\n",
    "    target_probs = softmax_probs[jnp.arange(len(targets)), targets]\n",
    "\n",
    "    loss = -jnp.log(target_probs)\n",
    "\n",
    "    return loss\n"
   ]
  },
  {
   "cell_type": "markdown",
   "id": "wzpMh4YKEUdv",
   "metadata": {
    "id": "wzpMh4YKEUdv"
   },
   "source": [
    "## Training CNN classifier on SVHN classification"
   ]
  },
  {
   "cell_type": "code",
   "execution_count": null,
   "id": "4HR6hHUlEUdv",
   "metadata": {
    "id": "4HR6hHUlEUdv"
   },
   "outputs": [],
   "source": [
    "w_init = jax.nn.initializers.normal(stddev=0.02)\n",
    "\n",
    "def create_cnn():\n",
    "    return  stax.serial(\n",
    "        stax.Conv(128, (3, 3), padding='SAME', W_init=w_init),\n",
    "        stax.BatchNorm(),\n",
    "        stax.LeakyRelu,\n",
    "\n",
    "        stax.Conv(128, (3, 3), padding='SAME', W_init=w_init),\n",
    "        stax.BatchNorm(),\n",
    "        stax.LeakyRelu,\n",
    "\n",
    "        stax.Conv(128, (3, 3), strides=(2, 2), padding='SAME', W_init=w_init),\n",
    "        stax.BatchNorm(),\n",
    "        stax.LeakyRelu,\n",
    "\n",
    "        stax.Conv(256, (3, 3), padding='SAME', W_init=w_init),\n",
    "        stax.BatchNorm(),\n",
    "        stax.LeakyRelu,\n",
    "\n",
    "        stax.Conv(256, (3, 3), padding='SAME', W_init=w_init),\n",
    "        stax.BatchNorm(),\n",
    "        stax.LeakyRelu,\n",
    "\n",
    "        stax.Conv(256, (3, 3), strides=(2, 2), padding='SAME', W_init=w_init),\n",
    "        stax.BatchNorm(),\n",
    "        stax.LeakyRelu,\n",
    "\n",
    "        stax.Conv(512, (3, 3), padding='SAME', W_init=w_init),\n",
    "        stax.BatchNorm(),\n",
    "        stax.LeakyRelu,\n",
    "\n",
    "        stax.Conv(256, (3, 3), padding='SAME', W_init=w_init),\n",
    "        stax.BatchNorm(),\n",
    "        stax.LeakyRelu,\n",
    "\n",
    "        stax.Conv(128, (3, 3), strides=(2, 2), padding='SAME', W_init=w_init),\n",
    "        stax.BatchNorm(),\n",
    "        stax.LeakyRelu,\n",
    "\n",
    "        stax.AvgPool(window_shape=(4, 4)),\n",
    "\n",
    "        stax.Flatten\n",
    "    )\n",
    "\n",
    "def create_label_predictor():\n",
    "    return stax.serial(\n",
    "        stax.Dense(128, W_init=w_init), stax.BatchNorm(axis=0), stax.LeakyRelu,\n",
    "        stax.Dense(128, W_init=w_init), stax.LeakyRelu,\n",
    "        stax.Dense(10, W_init=w_init)\n",
    "    )\n"
   ]
  },
  {
   "cell_type": "code",
   "execution_count": null,
   "id": "MEuYKoJnEUdv",
   "metadata": {
    "id": "MEuYKoJnEUdv"
   },
   "outputs": [],
   "source": [
    "def plot_metrics(metrics_dict, title=None):\n",
    "    fig, axs = plt.subplots(1, len(metrics_dict))\n",
    "    if title:\n",
    "        fig.suptitle(title)\n",
    "    for i, (key, vals) in enumerate(metrics_dict.items()):\n",
    "        marker = 'o' if 'epoch' in key else None\n",
    "        axs[i].plot(vals, marker=marker)\n",
    "        axs[i].set_title(key)\n",
    "        if 'acc' in key:\n",
    "            axs[i].set_ylim([0, 1.1])\n",
    "    plt.show()"
   ]
  },
  {
   "cell_type": "code",
   "execution_count": null,
   "id": "b5-HAvMdEUdv",
   "metadata": {
    "id": "b5-HAvMdEUdv"
   },
   "outputs": [],
   "source": [
    "def accuracy(a, b):\n",
    "    return jnp.mean(a == b)"
   ]
  },
  {
   "cell_type": "code",
   "execution_count": null,
   "id": "nkcnCk4xEUdv",
   "metadata": {
    "id": "nkcnCk4xEUdv"
   },
   "outputs": [],
   "source": [
    "import tqdm\n",
    "import functools\n",
    "from IPython.display import clear_output"
   ]
  },
  {
   "cell_type": "code",
   "execution_count": null,
   "id": "UHc2uNAOEUdv",
   "metadata": {
    "id": "UHc2uNAOEUdv"
   },
   "outputs": [],
   "source": [
    "def create_and_train_classifier(hparams, data, eval_data=None):\n",
    "\n",
    "    cnn_init, cnn_apply = create_cnn()\n",
    "    dense_init, dense_apply = create_label_predictor()\n",
    "\n",
    "    key = jax.random.PRNGKey(seed)\n",
    "    key, key_cnn, key_pred = jax.random.split(key, 3)\n",
    "    data_input_shape = (-1, 32, 32, 3)\n",
    "    cnn_output_shape, cnn_params = cnn_init(key_cnn, data_input_shape)\n",
    "    _, dense_params = dense_init(key_pred, cnn_output_shape)\n",
    "\n",
    "    def split_params(params):\n",
    "        return params[:len(cnn_params)], params[len(cnn_params):]\n",
    "\n",
    "    opt_init, opt_update, get_params = optimizers.adam(\n",
    "        step_size=hparams.lr, b1=hparams.beta1\n",
    "    )\n",
    "    opt_state = opt_init(cnn_params + dense_params)\n",
    "\n",
    "    def loss_fn(cnn_params, dense_params, x, y):\n",
    "        pred_y_logits = dense_apply(dense_params, cnn_apply(cnn_params, x))\n",
    "        loss = jnp.mean(\n",
    "            sparse_softmax_cross_entropy(targets=y, logits=pred_y_logits),\n",
    "            axis=0\n",
    "        )\n",
    "        return loss, pred_y_logits\n",
    "\n",
    "    def evaluate(opt_state, eval_data):\n",
    "        cnn_params, dense_params = split_params(get_params(opt_state))\n",
    "\n",
    "        loss_fn_jit = jax.jit(loss_fn)\n",
    "\n",
    "        loss_vals, acc_vals = [], []\n",
    "        for i, (x, y) in enumerate(tqdm.tqdm(\n",
    "            tfds.as_numpy(eval_data.batch(hparams.batch_size).prefetch(tf.data.experimental.AUTOTUNE)),\n",
    "            desc='evaluation'\n",
    "        )):\n",
    "            loss, pred_y_logits = loss_fn_jit(cnn_params, dense_params, x, y)\n",
    "            acc = accuracy(y, jnp.argmax(pred_y_logits, axis=-1))\n",
    "            loss_vals.append(loss)\n",
    "            acc_vals.append(acc)\n",
    "\n",
    "        return jnp.array(loss_vals).mean(), jnp.array(acc_vals).mean()\n",
    "\n",
    "    @jax.jit\n",
    "    def train_step(step, opt_state, x, y):\n",
    "        cnn_params, dense_params = split_params(get_params(opt_state))\n",
    "\n",
    "        (loss, pred_y_logits), (cnn_grads, dense_grads) = jax.value_and_grad(\n",
    "            loss_fn, argnums=(0, 1), has_aux=True)(cnn_params, dense_params, x ,y)\n",
    "\n",
    "        opt_state = opt_update(step, cnn_grads + dense_grads, opt_state)\n",
    "        return loss, pred_y_logits, opt_state\n",
    "\n",
    "\n",
    "    metrics = {'loss': [], 'acc': []}\n",
    "    eval_metrics = {'epoch_loss': [], 'epoch_acc': []}\n",
    "    best_model = {'epoch': -1, 'eval_acc': -1., 'opt_state': None}\n",
    "\n",
    "    try:\n",
    "        total_step = 0\n",
    "        for epoch in range(hparams.epochs):\n",
    "            for x, y in tqdm.tqdm(\n",
    "                tfds.as_numpy(data.batch(hparams.batch_size).prefetch(tf.data.experimental.AUTOTUNE)),\n",
    "                desc='training'\n",
    "            ):\n",
    "\n",
    "                loss, pred_y_logits, opt_state = train_step(total_step, opt_state, x, y)\n",
    "                acc = accuracy(y, jnp.argmax(pred_y_logits, axis=-1))\n",
    "                metrics['loss'].append(loss)\n",
    "                metrics['acc'].append(acc)\n",
    "\n",
    "                total_step += 1\n",
    "\n",
    "            if eval_data is not None:\n",
    "                eval_loss, eval_acc = evaluate(opt_state, eval_data=eval_data)\n",
    "                eval_metrics['epoch_loss'].append(eval_loss)\n",
    "                eval_metrics['epoch_acc'].append(eval_acc)\n",
    "                if eval_acc > best_model['eval_acc']:\n",
    "                    best_model = {'epoch': epoch, 'eval_acc': eval_acc, 'opt_state': opt_state}\n",
    "\n",
    "            clear_output()\n",
    "            print('-' * 30, 'epoch', epoch, '-' * 30)\n",
    "            plot_metrics(metrics, title='Train')\n",
    "            if eval_data is not None:\n",
    "                plot_metrics(eval_metrics, title='Eval')\n",
    "                print(f'Eval_metrics: epoch_loss {eval_metrics[\"epoch_loss\"][-1]}'\n",
    "                      f'\\tepoch_acc {eval_metrics[\"epoch_acc\"][-1]}')\n",
    "\n",
    "    except KeyboardInterrupt:\n",
    "        print(f'Interrupted at epoch {epoch}.')\n",
    "\n",
    "    print(f'Returning model from epoch: {best_model[\"epoch\"]}, eval_acc: {best_model[\"eval_acc\"]}')\n",
    "    return functools.partial(evaluate, best_model['opt_state'])"
   ]
  },
  {
   "cell_type": "markdown",
   "id": "43AU0AaUEUdw",
   "metadata": {
    "id": "43AU0AaUEUdw"
   },
   "source": [
    "First, let's train a CNN on SVHN and measure it's performance on the SVHN test set during training."
   ]
  },
  {
   "cell_type": "code",
   "execution_count": null,
   "id": "m_xkFPpiEUdw",
   "metadata": {
    "colab": {
     "base_uri": "https://localhost:8080/",
     "height": 989
    },
    "id": "m_xkFPpiEUdw",
    "outputId": "fc7a702b-2554-45fd-f7e7-a45856b01772"
   },
   "outputs": [
    {
     "name": "stdout",
     "output_type": "stream",
     "text": [
      "------------------------------ epoch 2 ------------------------------\n"
     ]
    },
    {
     "data": {
      "image/png": "[encoded data removed]",
      "text/plain": [
       "<Figure size 640x480 with 2 Axes>"
      ]
     },
     "metadata": {},
     "output_type": "display_data"
    },
    {
     "data": {
      "image/png": "[encoded data removed]",
      "text/plain": [
       "<Figure size 640x480 with 2 Axes>"
      ]
     },
     "metadata": {},
     "output_type": "display_data"
    },
    {
     "name": "stdout",
     "output_type": "stream",
     "text": [
      "Eval_metrics: epoch_loss 0.24736979603767395\tepoch_acc 0.9298917055130005\n",
      "Returning model from epoch: 2, eval_acc: 0.9298917055130005\n"
     ]
    }
   ],
   "source": [
    "hparams = OmegaConf.create({\n",
    "    'epochs': num_epochs,\n",
    "    'batch_size': 128,\n",
    "    'lr': 0.001,\n",
    "    'beta1': 0.99,\n",
    "})\n",
    "eval_fn = create_and_train_classifier(hparams, ds_svhn, eval_data=ds_svhn_test)"
   ]
  },
  {
   "cell_type": "markdown",
   "id": "1SZJzTS5EUdw",
   "metadata": {
    "id": "1SZJzTS5EUdw"
   },
   "source": [
    "As you hopefully see, the model achieves pretty high accuracy on SVHN ($\\sim94.7\\%$).\n",
    "\n",
    "Now, let's evaluate the trained model on MNIST-dev (validation set). As you see the performance is much worse!"
   ]
  },
  {
   "cell_type": "code",
   "execution_count": null,
   "id": "09Gq0kliEUdw",
   "metadata": {
    "colab": {
     "base_uri": "https://localhost:8080/"
    },
    "id": "09Gq0kliEUdw",
    "outputId": "2f5790e4-c237-4ece-a781-1c66ac90177f"
   },
   "outputs": [
    {
     "name": "stderr",
     "output_type": "stream",
     "text": [
      "evaluation: 100%|██████████| 235/235 [00:01<00:00, 120.33it/s]\n"
     ]
    },
    {
     "data": {
      "text/plain": [
       "(Array(0.98951, dtype=float32), Array(0.7138076, dtype=float32))"
      ]
     },
     "execution_count": 20,
     "metadata": {},
     "output_type": "execute_result"
    }
   ],
   "source": [
    "eval_fn(ds_mnist_dev)"
   ]
  },
  {
   "cell_type": "markdown",
   "id": "u-pfyzobEUdw",
   "metadata": {
    "id": "u-pfyzobEUdw"
   },
   "source": [
    "Now, let's try some more runs of training with some different hyperparameter settings, while monitoring the model's performance on the MNIST-dev set!"
   ]
  },
  {
   "cell_type": "code",
   "execution_count": null,
   "id": "uJcIDjqdEUdw",
   "metadata": {
    "colab": {
     "base_uri": "https://localhost:8080/",
     "height": 989
    },
    "id": "uJcIDjqdEUdw",
    "outputId": "009ef6c0-e4f4-4bc4-fcef-ca5550b93456"
   },
   "outputs": [
    {
     "name": "stdout",
     "output_type": "stream",
     "text": [
      "------------------------------ epoch 2 ------------------------------\n"
     ]
    },
    {
     "data": {
      "image/png": "[encoded data removed]",
      "text/plain": [
       "<Figure size 640x480 with 2 Axes>"
      ]
     },
     "metadata": {},
     "output_type": "display_data"
    },
    {
     "data": {
      "image/png": "[encoded data removed]",
      "text/plain": [
       "<Figure size 640x480 with 2 Axes>"
      ]
     },
     "metadata": {},
     "output_type": "display_data"
    },
    {
     "name": "stdout",
     "output_type": "stream",
     "text": [
      "Eval_metrics: epoch_loss 1.0258487462997437\tepoch_acc 0.7037123441696167\n",
      "Returning model from epoch: 2, eval_acc: 0.7037123441696167\n"
     ]
    }
   ],
   "source": [
    "hparams = OmegaConf.create({\n",
    "    'epochs': num_epochs,\n",
    "    'batch_size': 128,\n",
    "    'lr': 0.001,\n",
    "    'beta1': 0.99,\n",
    "})\n",
    "eval_fn = create_and_train_classifier(hparams, ds_svhn, eval_data=ds_mnist_dev)"
   ]
  },
  {
   "cell_type": "code",
   "execution_count": null,
   "id": "D0UPKpwrEUdw",
   "metadata": {
    "colab": {
     "base_uri": "https://localhost:8080/",
     "height": 989
    },
    "id": "D0UPKpwrEUdw",
    "outputId": "93889006-cb47-489d-ac54-bdcadc26e5cf"
   },
   "outputs": [
    {
     "name": "stdout",
     "output_type": "stream",
     "text": [
      "------------------------------ epoch 2 ------------------------------\n"
     ]
    },
    {
     "data": {
      "image/png": "[encoded data removed]",
      "text/plain": [
       "<Figure size 640x480 with 2 Axes>"
      ]
     },
     "metadata": {},
     "output_type": "display_data"
    },
    {
     "data": {
      "image/png": "[encoded data removed]",
      "text/plain": [
       "<Figure size 640x480 with 2 Axes>"
      ]
     },
     "metadata": {},
     "output_type": "display_data"
    },
    {
     "name": "stdout",
     "output_type": "stream",
     "text": [
      "Eval_metrics: epoch_loss 0.9901873469352722\tepoch_acc 0.7230275273323059\n",
      "Returning model from epoch: 2, eval_acc: 0.7230275273323059\n"
     ]
    }
   ],
   "source": [
    "hparams = OmegaConf.create({\n",
    "    'epochs': num_epochs,\n",
    "    'batch_size': 128,\n",
    "    'lr': 0.0001,\n",
    "    'beta1': 0.5,\n",
    "})\n",
    "eval_fn = create_and_train_classifier(hparams, ds_svhn, eval_data=ds_mnist_dev)"
   ]
  },
  {
   "cell_type": "markdown",
   "id": "IwIFQfiSEUdw",
   "metadata": {
    "id": "IwIFQfiSEUdw"
   },
   "source": [
    "## Domain adaptation: DANN"
   ]
  },
  {
   "cell_type": "markdown",
   "id": "tfUecRywEUdx",
   "metadata": {
    "id": "tfUecRywEUdx"
   },
   "source": [
    "In this part we will implement the\n",
    "[DANN](https://www.jmlr.org/papers/volume17/15-239/15-239.pdf)\n",
    "model and use to for SVHN &rarr; MNIST adaptation.\n",
    "\n",
    "As shown on the figure below, DANN has three component networks: feature extractor, label predictor, and domain classifier.\n",
    "Label predictor is trained with only source data, as for target data no labels are used.\n",
    "The goal of the domain classifier (discriminator) is to distinguish features of the source vs. target domain samples. Therefore, in order to fool the discriminator, the feature extractor (generator) has to make the features of source and domain samples indistinguishable, while preserving enough relevant information to allow the label predictor still correctly classify source samples.\n",
    "\n",
    "In GAN training, one typically uses two separate updates, separate for the generator and discriminator.\n",
    "DANN however, introduced a _Gradient Reversal Layer_ which reverses the gradients from the discriminator. Thanks to that  all components can updated with just a single update.\n",
    "\n",
    "![DANN figure](./imgs/dann_figure.svg)\n",
    "\n",
    "\n",
    "[DANN](https://www.jmlr.org/papers/volume17/15-239/15-239.pdf)\n"
   ]
  },
  {
   "cell_type": "markdown",
   "id": "ZwcsvPCkEUdx",
   "metadata": {
    "id": "ZwcsvPCkEUdx"
   },
   "source": [
    "### (Task) Implement _gradient reversal layer_\n",
    "\n",
    "The layer should in the forward pass behave like an identity function. However, in the backward pass it should reverse the gradients and multiply them by `l`.\n",
    "\n",
    "You might want to remind yourself how automatic differentation, back propagation, and chain rule of derivatives work!"
   ]
  },
  {
   "cell_type": "code",
   "execution_count": null,
   "id": "8shL7i8SEUdx",
   "metadata": {
    "id": "8shL7i8SEUdx"
   },
   "outputs": [],
   "source": [
    "@jax.custom_jvp\n",
    "def grad_reverse(x, l):\n",
    "    # Just an identity function in the forward pass\n",
    "    return x\n",
    "\n",
    "@grad_reverse.defjvp\n",
    "def grad_reverse_jvp(primals, tangents):\n",
    "    # Extract the inputs from the tuples\n",
    "    x, l = primals\n",
    "    dx, dl = tangents\n",
    "    return x, l * (-dx)\n"
   ]
  },
  {
   "cell_type": "code",
   "execution_count": null,
   "id": "xMnD-MHYEUdx",
   "metadata": {
    "colab": {
     "base_uri": "https://localhost:8080/"
    },
    "id": "xMnD-MHYEUdx",
    "outputId": "559de6b9-3ec4-4442-dd9e-67049f04fecd"
   },
   "outputs": [
    {
     "data": {
      "text/plain": [
       "Array(5., dtype=float32, weak_type=True)"
      ]
     },
     "execution_count": 24,
     "metadata": {},
     "output_type": "execute_result"
    }
   ],
   "source": [
    "grad_reverse(jnp.array(5.), 2)"
   ]
  },
  {
   "cell_type": "markdown",
   "id": "9IbzAcq1EUdx",
   "metadata": {
    "id": "9IbzAcq1EUdx"
   },
   "source": [
    "#### (Task) Test _gradient reversal layer_"
   ]
  },
  {
   "cell_type": "code",
   "execution_count": null,
   "id": "wGmOPMsZEUdx",
   "metadata": {
    "id": "wGmOPMsZEUdx"
   },
   "outputs": [],
   "source": [
    "l = 0.5\n",
    "def f(x):\n",
    "    return jnp.sin(grad_reverse(x, l)) * 5.\n",
    "\n",
    "x = jnp.array(-5.)\n",
    "\n",
    "np.testing.assert_almost_equal(x, grad_reverse(x, l))\n",
    "\n",
    "jax.grad(f)(x), jax.grad(jnp.sin)(x) * 5. * l\n",
    "expected = jax.grad(jnp.sin)(x) * 5. * l * -1.\n",
    "returned = jax.grad(f)(x)\n",
    "np.testing.assert_almost_equal(returned, expected)"
   ]
  },
  {
   "cell_type": "markdown",
   "id": "YDr-E3_yEUdx",
   "metadata": {
    "id": "YDr-E3_yEUdx"
   },
   "source": [
    "### (Task) Implement DANN model\n",
    "\n",
    "Task: Implement the training as in DANN model, using the model architecture as provided.\n",
    "Remember to use the _gradient reversal layer_ and that you need to only one update for all the component networks.\n",
    "\n",
    "The model should be optimized for the sum of classification loss on the source data and domain discrimination loss (weighted by `hparams.gan_loss_weight`)."
   ]
  },
  {
   "cell_type": "code",
   "execution_count": null,
   "id": "O0fGuUxiEUdx",
   "metadata": {
    "id": "O0fGuUxiEUdx"
   },
   "outputs": [],
   "source": [
    "def sigmoid_cross_entropy(*, targets, logits):\n",
    "    assert targets.shape == logits.shape\n",
    "\n",
    "    loss = targets * jnp.log(1+jnp.exp(-logits)) + (1-targets)*(logits + jnp.log(1+jnp.exp(-logits)))\n",
    "\n",
    "    assert loss.shape == logits.shape, \\\n",
    "        'cross-entropy loss is not expected here to be averaged over samples'\n",
    "    return loss\n",
    "\n",
    "def discriminator_loss(*, real_logits, fake_logits):\n",
    "    # NOTE: the inputs are expected to be logits, not probabilities!\n",
    "\n",
    "    ones = jnp.ones_like(real_logits)\n",
    "    zeros = jnp.zeros_like(fake_logits)\n",
    "\n",
    "    real_loss = jnp.mean(sigmoid_cross_entropy(logits=real_logits, targets=ones))\n",
    "    fake_loss = jnp.mean(sigmoid_cross_entropy(logits=fake_logits, targets=zeros))\n",
    "\n",
    "    loss = real_loss + fake_loss\n",
    "\n",
    "    assert loss.shape == (), \\\n",
    "        'discriminator loss is expected here to be averaged over samples'\n",
    "    return loss\n",
    "\n",
    "def generator_loss(discriminator_fake_logits):\n",
    "\n",
    "    loss = jnp.mean(sigmoid_cross_entropy(logits=discriminator_fake_logits, targets=jnp.ones_like(discriminator_fake_logits)))\n",
    "\n",
    "    assert loss.shape == (), \\\n",
    "        'discriminator loss is expected here to be averaged over samples'\n",
    "    return loss"
   ]
  },
  {
   "cell_type": "code",
   "execution_count": null,
   "id": "xcSdCKWpEUdy",
   "metadata": {
    "id": "xcSdCKWpEUdy"
   },
   "outputs": [],
   "source": [
    "def create_discriminator():\n",
    "    return stax.serial(\n",
    "        stax.Dense(128, W_init=w_init), stax.BatchNorm(axis=0), stax.LeakyRelu,\n",
    "        stax.Dense(128, W_init=w_init), stax.LeakyRelu,\n",
    "        stax.Dense(1, W_init=w_init)\n",
    "    )"
   ]
  },
  {
   "cell_type": "code",
   "execution_count": null,
   "id": "FZ78Dz8xEUdy",
   "metadata": {
    "id": "FZ78Dz8xEUdy"
   },
   "outputs": [],
   "source": [
    "def adaptation_weight(step, num_steps):\n",
    "    p = jnp.clip(step / num_steps, 0., 1.)\n",
    "    l = 2 / (1 + jnp.exp(-10. * p)) - 1\n",
    "    return l"
   ]
  },
  {
   "cell_type": "code",
   "execution_count": null,
   "id": "3Afn-gDLEUdy",
   "metadata": {
    "id": "3Afn-gDLEUdy"
   },
   "outputs": [],
   "source": [
    "def create_and_train_classifier_dann(hparams, src_data, tar_data, eval_data=None):\n",
    "\n",
    "    cnn_init, cnn_apply = create_cnn()\n",
    "    dense_init, dense_apply = create_label_predictor()\n",
    "    dis_init, dis_apply = create_discriminator()\n",
    "\n",
    "    key = jax.random.PRNGKey(seed)\n",
    "    key, key_cnn, key_pred, key_dis = jax.random.split(key, 4)\n",
    "    data_input_shape = (-1, 32, 32, 3)\n",
    "    cnn_output_shape, cnn_params = cnn_init(key_cnn, data_input_shape)\n",
    "    _, dense_params = dense_init(key_pred, cnn_output_shape)\n",
    "    _, dis_params = dis_init(key_dis, cnn_output_shape)\n",
    "\n",
    "    def split_params(params):\n",
    "        n = (len(cnn_params), len(dense_params), len(dis_params))\n",
    "        return (\n",
    "            params[:n[0]],\n",
    "            params[n[0]:n[0] + n[1]],\n",
    "            params[n[0] + n[1]:]\n",
    "        )\n",
    "\n",
    "    opt_init, opt_update, get_params = optimizers.adam(\n",
    "        step_size=hparams.lr, b1=hparams.beta1\n",
    "    )\n",
    "    opt_state = opt_init(cnn_params + dense_params + dis_params)\n",
    "\n",
    "    def loss_fn_classification(cnn_params, dense_params, x, y):\n",
    "        # Used for evaluation\n",
    "        pred_y_logits = dense_apply(dense_params, cnn_apply(cnn_params, x))\n",
    "        loss = jnp.mean(\n",
    "            sparse_softmax_cross_entropy(targets=y, logits=pred_y_logits),\n",
    "            axis=0\n",
    "        )\n",
    "        return loss, pred_y_logits\n",
    "\n",
    "    def evaluate(opt_state, eval_data):\n",
    "        cnn_params, dense_params, _ = split_params(get_params(opt_state))\n",
    "\n",
    "        loss_fn_cls_jit = jax.jit(loss_fn_classification)\n",
    "\n",
    "        loss_vals, acc_vals = [], []\n",
    "        for i, (x, y) in enumerate(tqdm.tqdm(\n",
    "            tfds.as_numpy(eval_data.batch(hparams.batch_size).prefetch(tf.data.experimental.AUTOTUNE)),\n",
    "            desc='evaluation'\n",
    "        )):\n",
    "            loss, pred_y_logits = loss_fn_cls_jit(cnn_params, dense_params, x, y)\n",
    "            acc = accuracy(y, jnp.argmax(pred_y_logits, axis=-1))\n",
    "            loss_vals.append(loss)\n",
    "            acc_vals.append(acc)\n",
    "\n",
    "        return jnp.array(loss_vals).mean(), jnp.array(acc_vals).mean()\n",
    "    # Implements the loss function described in the research paper\n",
    "    def loss_fn(params, x_src, y_src, x_tar, step):\n",
    "        cnn_params, dense_params, dis_params = split_params(params)\n",
    "\n",
    "        # Compute the adaptation weight dynamically if enabled, otherwise use a fixed weight\n",
    "        weight  = hparams.gan_loss_weight if not hparams.dynamic_adaptation_weight else adaptation_weight(step, hparams.num_steps)\n",
    "\n",
    "        # Extract features for source and target inputs using the CNN\n",
    "        src_features = cnn_apply(cnn_params, x_src)\n",
    "        tar_features = cnn_apply(cnn_params, x_tar)\n",
    "\n",
    "        # Predict source logits using the dense (classification) layer\n",
    "        pred_src_logits = dense_apply(dense_params, src_features)\n",
    "\n",
    "        # Apply gradient reversal to source and target features for adversarial training\n",
    "        features_source_rev = grad_reverse(src_features, weight)\n",
    "        features_target_rev = grad_reverse(tar_features, weight)\n",
    "\n",
    "        # Calculate classification loss for source domain\n",
    "        cls_loss = jnp.mean(\n",
    "            sparse_softmax_cross_entropy(targets=y_src, logits=pred_src_logits)\n",
    "        )\n",
    "\n",
    "        # Apply the discriminator to the source and target features\n",
    "        dis_tar_logits = dis_apply(dis_params, tar_features)\n",
    "        dis_src_logits = dis_apply(dis_params, src_features)\n",
    "\n",
    "        # Calculate the adversarial loss for the discriminator\n",
    "        dis_loss = discriminator_loss(\n",
    "            real_logits=dis_src_logits, fake_logits=dis_tar_logits\n",
    "        )\n",
    "\n",
    "        # Combine classification loss and adversarial loss, weighted by the adaptation weight\n",
    "        loss = cls_loss + dis_loss * weight\n",
    "        return loss\n",
    "\n",
    "    # JIT-compiled training step for performance optimization\n",
    "    @jax.jit\n",
    "    def train_step(step, opt_state, x_src, y_src, x_tar):\n",
    "        # Retrieve the current model parameters from the optimizer state\n",
    "        params = get_params(opt_state)\n",
    "\n",
    "        # Compute the loss and gradients with respect to the model parameters\n",
    "        loss, grads = jax.value_and_grad(loss_fn)(params, x_src, y_src, x_tar, step)\n",
    "\n",
    "        # Forward pass: calculate the discriminator loss\n",
    "        dis_loss = discriminator_loss(\n",
    "            real_logits=dis_apply(split_params(params)[2], cnn_apply(split_params(params)[0], x_src)),\n",
    "            fake_logits=dis_apply(split_params(params)[2], cnn_apply(split_params(params)[0], x_tar))\n",
    "        )\n",
    "\n",
    "        # Update the optimizer state with the computed gradients\n",
    "        opt_state = opt_update(step, grads, opt_state)\n",
    "\n",
    "        # Forward pass: predict source logits for classification loss computation\n",
    "        pred_src_logits = dense_apply(split_params(params)[1], cnn_apply(split_params(params)[0], x_src))\n",
    "\n",
    "        # Split the parameters for further analysis or use\n",
    "        cnn_params, dense_params, dis_params = split_params(params)\n",
    "\n",
    "        cls_loss = jnp.mean(sparse_softmax_cross_entropy(targets=y_src, logits=pred_src_logits))\n",
    "\n",
    "        # Return the loss values and updated optimizer state\n",
    "        return (loss, cls_loss, dis_loss), pred_src_logits, opt_state\n",
    "\n",
    "\n",
    "\n",
    "    metrics = {'loss': [], 'cls_loss': [], 'dis_loss': [], 'acc': []}\n",
    "    eval_metrics = {'epoch_loss': [], 'epoch_acc': []}\n",
    "    best_model = {'epoch': -1, 'eval_acc': -1., 'opt_state': None}\n",
    "\n",
    "    total_step = 0\n",
    "    tar_data_iter = tar_data.repeat()\\\n",
    "        .batch(hparams.batch_size).prefetch(tf.data.experimental.AUTOTUNE)\\\n",
    "        .as_numpy_iterator()\n",
    "\n",
    "    try:\n",
    "        for epoch in range(hparams.epochs):\n",
    "            for x_src, y_src in tqdm.tqdm(\n",
    "                tfds.as_numpy(src_data.batch(hparams.batch_size).prefetch(tf.data.experimental.AUTOTUNE)),\n",
    "                desc='training'\n",
    "            ):\n",
    "\n",
    "                x_tar, _ = next(tar_data_iter)\n",
    "\n",
    "                (loss, cls_loss, dis_loss), pred_src_logits, opt_state = train_step(\n",
    "                    total_step, opt_state, x_src, y_src, x_tar)\n",
    "                acc = accuracy(y_src, jnp.argmax(pred_src_logits, axis=-1))\n",
    "                metrics['loss'].append(loss)\n",
    "                metrics['cls_loss'].append(cls_loss)\n",
    "                metrics['dis_loss'].append(dis_loss)\n",
    "                metrics['acc'].append(acc)\n",
    "\n",
    "                total_step += 1\n",
    "\n",
    "            if eval_data is not None:\n",
    "                eval_loss, eval_acc = evaluate(opt_state, eval_data=eval_data)\n",
    "                eval_metrics['epoch_loss'].append(eval_loss)\n",
    "                eval_metrics['epoch_acc'].append(eval_acc)\n",
    "\n",
    "                if eval_acc > best_model['eval_acc']:\n",
    "                    best_model = {'epoch': epoch, 'eval_acc': eval_acc, 'opt_state': opt_state}\n",
    "\n",
    "            clear_output()\n",
    "            print('-' * 30, 'epoch', epoch, '-' * 30)\n",
    "            plot_metrics(metrics, title='Train')\n",
    "            if eval_data is not None:\n",
    "                plot_metrics(eval_metrics, title='Eval')\n",
    "                print(f'Eval_metrics: epoch_loss {eval_metrics[\"epoch_loss\"][-1]}'\n",
    "                      f'\\tepoch_acc {eval_metrics[\"epoch_acc\"][-1]}')\n",
    "\n",
    "\n",
    "    except KeyboardInterrupt:\n",
    "        print(f'Interrupted at epoch {epoch}.')\n",
    "\n",
    "    print(f'Returning model from epoch: {best_model[\"epoch\"]}, eval_acc: {best_model[\"eval_acc\"]}')\n",
    "    cnn_params, dense_params, dis_params = split_params(get_params(best_model['opt_state']))\n",
    "    return {\n",
    "        'eval_fn': functools.partial(evaluate, best_model['opt_state']),\n",
    "        'cnn': (cnn_apply, cnn_params),\n",
    "        'dense': (dense_apply, dense_params),\n",
    "        'dis': (dis_apply, dis_params)\n",
    "    }"
   ]
  },
  {
   "cell_type": "markdown",
   "id": "ObVuNb1DEUdy",
   "metadata": {
    "id": "ObVuNb1DEUdy"
   },
   "source": [
    "After implementing the model, try to train it with a few different settings of hyperpameters.\n",
    "\n",
    "Can you get results similar to the following?\n",
    "\n",
    "![image.png](./imgs/step3_dann_training.png)\n",
    "\n",
    "**How is it possible that the DANN model evaluated on data (MNIST) has a high accuracy but also such an insanely high cross-entropy?**<small>(The cross-entropy was actually much lower when no domain adaptation was done!)</small>\n",
    "- Can you explain it?\n",
    "- Note that on 10-class classification by random chance one could expect the cross-entropy of 2.3\n",
    "\n",
    "\n",
    "\n",
    "If you have some hypotheses about possible explainations, but also the reasons why it happen, try to verify them by investigating the trained models (returned from the function), or possibly even running some additional experiments."
   ]
  },
  {
   "cell_type": "markdown",
   "id": "v-ci9iLqBCu8",
   "metadata": {
    "id": "v-ci9iLqBCu8"
   },
   "source": [
    " **High accuracy with high cross-entropy could happen because the model's predicted probabilities are less confident (spread out across classes), even if the top prediction is correct. DANN could prioritize aligning feature distributions over optimizing class probabilities, leading to softer outputs. This explains why cross-entropy might increase, even as accuracy improves.**"
   ]
  },
  {
   "cell_type": "code",
   "execution_count": null,
   "id": "NJK8AZinEUdy",
   "metadata": {
    "colab": {
     "base_uri": "https://localhost:8080/",
     "height": 989
    },
    "id": "NJK8AZinEUdy",
    "outputId": "2edd94ed-1c0c-4063-9d0a-f9d10ed5e68b"
   },
   "outputs": [
    {
     "name": "stdout",
     "output_type": "stream",
     "text": [
      "------------------------------ epoch 2 ------------------------------\n"
     ]
    },
    {
     "data": {
      "image/png": "[encoded data removed]",
      "text/plain": [
       "<Figure size 640x480 with 4 Axes>"
      ]
     },
     "metadata": {},
     "output_type": "display_data"
    },
    {
     "data": {
      "image/png": "[encoded data removed]",
      "text/plain": [
       "<Figure size 640x480 with 2 Axes>"
      ]
     },
     "metadata": {},
     "output_type": "display_data"
    },
    {
     "name": "stdout",
     "output_type": "stream",
     "text": [
      "Eval_metrics: epoch_loss 1.2095081806182861\tepoch_acc 0.6378546357154846\n",
      "Returning model from epoch: 2, eval_acc: 0.6378546357154846\n"
     ]
    }
   ],
   "source": [
    "hparams_dann = OmegaConf.create({\n",
    "    'epochs': num_epochs,\n",
    "    'batch_size': 128,\n",
    "    'lr': 0.0001,\n",
    "    'gan_loss_weight': 0.5,\n",
    "    'beta1': 0.5,\n",
    "    'num_steps': 10000,\n",
    "    'dynamic_adaptation_weight': False,\n",
    "})\n",
    "model = create_and_train_classifier_dann(\n",
    "    hparams_dann,\n",
    "    src_data=ds_svhn, tar_data=ds_mnist,\n",
    "    eval_data=ds_mnist_dev)"
   ]
  },
  {
   "cell_type": "code",
   "execution_count": null,
   "id": "NKI5z4bxEUdy",
   "metadata": {
    "colab": {
     "base_uri": "https://localhost:8080/"
    },
    "id": "NKI5z4bxEUdy",
    "outputId": "48d909d9-3693-4a14-d5e8-81236cd11f67"
   },
   "outputs": [
    {
     "name": "stderr",
     "output_type": "stream",
     "text": [
      "evaluation: 100%|██████████| 79/79 [00:02<00:00, 28.87it/s] \n"
     ]
    },
    {
     "data": {
      "text/plain": [
       "(Array(1.1639146, dtype=float32), Array(0.65417325, dtype=float32))"
      ]
     },
     "execution_count": 31,
     "metadata": {},
     "output_type": "execute_result"
    }
   ],
   "source": [
    "model['eval_fn'](ds_mnist_test)"
   ]
  },
  {
   "cell_type": "code",
   "execution_count": null,
   "id": "hX4MhuiZEUdy",
   "metadata": {
    "colab": {
     "base_uri": "https://localhost:8080/",
     "height": 989
    },
    "id": "hX4MhuiZEUdy",
    "outputId": "5c4f8bfe-2d31-4a07-dd5b-d760c37081f6"
   },
   "outputs": [
    {
     "name": "stdout",
     "output_type": "stream",
     "text": [
      "------------------------------ epoch 2 ------------------------------\n"
     ]
    },
    {
     "data": {
      "image/png": "[encoded data removed]",
      "text/plain": [
       "<Figure size 640x480 with 4 Axes>"
      ]
     },
     "metadata": {},
     "output_type": "display_data"
    },
    {
     "data": {
      "image/png": "[encoded data removed]",
      "text/plain": [
       "<Figure size 640x480 with 2 Axes>"
      ]
     },
     "metadata": {},
     "output_type": "display_data"
    },
    {
     "name": "stdout",
     "output_type": "stream",
     "text": [
      "Eval_metrics: epoch_loss 1.0495810508728027\tepoch_acc 0.7074357271194458\n",
      "Returning model from epoch: 2, eval_acc: 0.7074357271194458\n"
     ]
    }
   ],
   "source": [
    "hparams_dann = OmegaConf.create({\n",
    "    'epochs': num_epochs,\n",
    "    'batch_size': 128,\n",
    "    'lr': 0.0001,\n",
    "    'gan_loss_weight': 0.5,\n",
    "    'beta1': 0.5,\n",
    "    'num_steps': 10000,\n",
    "    'dynamic_adaptation_weight': True,\n",
    "})\n",
    "model = create_and_train_classifier_dann(\n",
    "    hparams_dann,\n",
    "    src_data=ds_svhn, tar_data=ds_mnist,\n",
    "    eval_data=ds_mnist_dev)"
   ]
  },
  {
   "cell_type": "code",
   "execution_count": null,
   "id": "mqgMLieIEUdz",
   "metadata": {
    "colab": {
     "base_uri": "https://localhost:8080/",
     "height": 989
    },
    "id": "mqgMLieIEUdz",
    "outputId": "7590d625-b41c-4a31-e92f-b1c032deb41b"
   },
   "outputs": [
    {
     "name": "stdout",
     "output_type": "stream",
     "text": [
      "------------------------------ epoch 2 ------------------------------\n"
     ]
    },
    {
     "data": {
      "image/png": "[encoded data removed]",
      "text/plain": [
       "<Figure size 640x480 with 4 Axes>"
      ]
     },
     "metadata": {},
     "output_type": "display_data"
    },
    {
     "data": {
      "image/png": "[encoded data removed]",
      "text/plain": [
       "<Figure size 640x480 with 2 Axes>"
      ]
     },
     "metadata": {},
     "output_type": "display_data"
    },
    {
     "name": "stdout",
     "output_type": "stream",
     "text": [
      "Eval_metrics: epoch_loss 1.2917193174362183\tepoch_acc 0.5978280305862427\n",
      "Returning model from epoch: 2, eval_acc: 0.5978280305862427\n"
     ]
    }
   ],
   "source": [
    "hparams_dann = OmegaConf.create({\n",
    "    'epochs': num_epochs,\n",
    "    'batch_size': 128,\n",
    "    'lr': 0.0001,\n",
    "    'gan_loss_weight': 1.,\n",
    "    'beta1': 0.5,\n",
    "    'num_steps': 10000,\n",
    "    'dynamic_adaptation_weight': False,\n",
    "})\n",
    "model = create_and_train_classifier_dann(\n",
    "    hparams_dann,\n",
    "    src_data=ds_svhn, tar_data=ds_mnist,\n",
    "    eval_data=ds_mnist_dev)"
   ]
  },
  {
   "cell_type": "code",
   "execution_count": null,
   "id": "ouxs2doFEUdz",
   "metadata": {
    "colab": {
     "base_uri": "https://localhost:8080/",
     "height": 989
    },
    "id": "ouxs2doFEUdz",
    "outputId": "a248c695-a26d-4967-fca1-b01fc1b09b5a"
   },
   "outputs": [
    {
     "name": "stdout",
     "output_type": "stream",
     "text": [
      "------------------------------ epoch 2 ------------------------------\n"
     ]
    },
    {
     "data": {
      "image/png": "[encoded data removed]",
      "text/plain": [
       "<Figure size 640x480 with 4 Axes>"
      ]
     },
     "metadata": {},
     "output_type": "display_data"
    },
    {
     "data": {
      "image/png": "[encoded data removed]",
      "text/plain": [
       "<Figure size 640x480 with 2 Axes>"
      ]
     },
     "metadata": {},
     "output_type": "display_data"
    },
    {
     "name": "stdout",
     "output_type": "stream",
     "text": [
      "Eval_metrics: epoch_loss 1.4342645406723022\tepoch_acc 0.6338984966278076\n",
      "Returning model from epoch: 2, eval_acc: 0.6338984966278076\n"
     ]
    }
   ],
   "source": [
    "hparams_dann = OmegaConf.create({\n",
    "    'epochs': num_epochs,\n",
    "    'batch_size': 128,\n",
    "    'lr': 0.001,\n",
    "    'gan_loss_weight': 0.5,\n",
    "    'beta1': 0.99,\n",
    "    'num_steps': 10000,\n",
    "    'dynamic_adaptation_weight': False,\n",
    "})\n",
    "model = create_and_train_classifier_dann(\n",
    "    hparams_dann,\n",
    "    src_data=ds_svhn, tar_data=ds_mnist,\n",
    "    eval_data=ds_mnist_dev)\n"
   ]
  },
  {
   "cell_type": "code",
   "execution_count": null,
   "id": "Jl_xujQiEUdz",
   "metadata": {
    "colab": {
     "base_uri": "https://localhost:8080/",
     "height": 989
    },
    "id": "Jl_xujQiEUdz",
    "outputId": "b0430c2d-8bfd-4eb9-cf7f-76a73c71e2e6"
   },
   "outputs": [
    {
     "name": "stdout",
     "output_type": "stream",
     "text": [
      "------------------------------ epoch 2 ------------------------------\n"
     ]
    },
    {
     "data": {
      "image/png": "[encoded data removed]",
      "text/plain": [
       "<Figure size 640x480 with 4 Axes>"
      ]
     },
     "metadata": {},
     "output_type": "display_data"
    },
    {
     "data": {
      "image/png": "[encoded data removed]",
      "text/plain": [
       "<Figure size 640x480 with 2 Axes>"
      ]
     },
     "metadata": {},
     "output_type": "display_data"
    },
    {
     "name": "stdout",
     "output_type": "stream",
     "text": [
      "Eval_metrics: epoch_loss 1.5014591217041016\tepoch_acc 0.5450243353843689\n",
      "Returning model from epoch: 1, eval_acc: 0.5525708794593811\n"
     ]
    }
   ],
   "source": [
    "hparams_dann = OmegaConf.create({\n",
    "    'epochs': num_epochs,\n",
    "    'batch_size': 128,\n",
    "    'lr': 0.0001,\n",
    "    'gan_loss_weight': 1.,\n",
    "    'beta1': 0.5,\n",
    "    'num_steps': 10000,\n",
    "    'dynamic_adaptation_weight': False,\n",
    "})\n",
    "model = create_and_train_classifier_dann(\n",
    "    hparams_dann,\n",
    "    src_data=ds_svhn, tar_data=ds_mnist,\n",
    "    eval_data=ds_mnist_dev)"
   ]
  },
  {
   "cell_type": "markdown",
   "id": "ZeaVKaS5EUdz",
   "metadata": {
    "id": "ZeaVKaS5EUdz"
   },
   "source": [
    "Finally, it is valuable for us to know, how long did it take you to finish this practical?"
   ]
  },
  {
   "cell_type": "code",
   "execution_count": null,
   "id": "GWfzJXVNEUdz",
   "metadata": {
    "id": "GWfzJXVNEUdz"
   },
   "outputs": [],
   "source": []
  }
 ],
 "metadata": {
  "accelerator": "GPU",
  "colab": {
   "gpuType": "A100",
   "machine_shape": "hm",
   "provenance": []
  },
  "kernelspec": {
   "display_name": "Python 3 (ipykernel)",
   "language": "python",
   "name": "python3"
  },
  "language_info": {
   "codemirror_mode": {
    "name": "ipython",
    "version": 3
   },
   "file_extension": ".py",
   "mimetype": "text/x-python",
   "name": "python",
   "nbconvert_exporter": "python",
   "pygments_lexer": "ipython3",
   "version": "3.11.10"
  },
  "widgets": {
   "application/vnd.jupyter.widget-state+json": {
    "01d3a8c811af4bc3adf3d5b207b710b6": {
     "model_module": "@jupyter-widgets/base",
     "model_module_version": "1.2.0",
     "model_name": "LayoutModel",
     "state": {
      "_model_module": "@jupyter-widgets/base",
      "_model_module_version": "1.2.0",
      "_model_name": "LayoutModel",
      "_view_count": null,
      "_view_module": "@jupyter-widgets/base",
      "_view_module_version": "1.2.0",
      "_view_name": "LayoutView",
      "align_content": null,
      "align_items": null,
      "align_self": null,
      "border": null,
      "bottom": null,
      "display": null,
      "flex": null,
      "flex_flow": null,
      "grid_area": null,
      "grid_auto_columns": null,
      "grid_auto_flow": null,
      "grid_auto_rows": null,
      "grid_column": null,
      "grid_gap": null,
      "grid_row": null,
      "grid_template_areas": null,
      "grid_template_columns": null,
      "grid_template_rows": null,
      "height": null,
      "justify_content": null,
      "justify_items": null,
      "left": null,
      "margin": null,
      "max_height": null,
      "max_width": null,
      "min_height": null,
      "min_width": null,
      "object_fit": null,
      "object_position": null,
      "order": null,
      "overflow": null,
      "overflow_x": null,
      "overflow_y": null,
      "padding": null,
      "right": null,
      "top": null,
      "visibility": null,
      "width": null
     }
    },
    "027ff01200094cce87ce6bb2e043b08f": {
     "model_module": "@jupyter-widgets/controls",
     "model_module_version": "1.5.0",
     "model_name": "HTMLModel",
     "state": {
      "_dom_classes": [],
      "_model_module": "@jupyter-widgets/controls",
      "_model_module_version": "1.5.0",
      "_model_name": "HTMLModel",
      "_view_count": null,
      "_view_module": "@jupyter-widgets/controls",
      "_view_module_version": "1.5.0",
      "_view_name": "HTMLView",
      "description": "",
      "description_tooltip": null,
      "layout": "IPY_MODEL_6a80449e9a3e45aa9df2263632926c73",
      "placeholder": "​",
      "style": "IPY_MODEL_2f7a05b497de45768a53ec8eb803e099",
      "value": " 5/5 [00:00&lt;00:00, 28.28 file/s]"
     }
    },
    "0314a5dafcb34d22ab636b802abc529d": {
     "model_module": "@jupyter-widgets/base",
     "model_module_version": "1.2.0",
     "model_name": "LayoutModel",
     "state": {
      "_model_module": "@jupyter-widgets/base",
      "_model_module_version": "1.2.0",
      "_model_name": "LayoutModel",
      "_view_count": null,
      "_view_module": "@jupyter-widgets/base",
      "_view_module_version": "1.2.0",
      "_view_name": "LayoutView",
      "align_content": null,
      "align_items": null,
      "align_self": null,
      "border": null,
      "bottom": null,
      "display": null,
      "flex": null,
      "flex_flow": null,
      "grid_area": null,
      "grid_auto_columns": null,
      "grid_auto_flow": null,
      "grid_auto_rows": null,
      "grid_column": null,
      "grid_gap": null,
      "grid_row": null,
      "grid_template_areas": null,
      "grid_template_columns": null,
      "grid_template_rows": null,
      "height": null,
      "justify_content": null,
      "justify_items": null,
      "left": null,
      "margin": null,
      "max_height": null,
      "max_width": null,
      "min_height": null,
      "min_width": null,
      "object_fit": null,
      "object_position": null,
      "order": null,
      "overflow": null,
      "overflow_x": null,
      "overflow_y": null,
      "padding": null,
      "right": null,
      "top": null,
      "visibility": "hidden",
      "width": null
     }
    },
    "057fca36ba644a43b09a51a9c4baad74": {
     "model_module": "@jupyter-widgets/controls",
     "model_module_version": "1.5.0",
     "model_name": "HTMLModel",
     "state": {
      "_dom_classes": [],
      "_model_module": "@jupyter-widgets/controls",
      "_model_module_version": "1.5.0",
      "_model_name": "HTMLModel",
      "_view_count": null,
      "_view_module": "@jupyter-widgets/controls",
      "_view_module_version": "1.5.0",
      "_view_name": "HTMLView",
      "description": "",
      "description_tooltip": null,
      "layout": "IPY_MODEL_412b5771d4894ac8a7e31468b0c9710c",
      "placeholder": "​",
      "style": "IPY_MODEL_a593e100a02d45b086cfe0a19f65dcba",
      "value": " 25082/26032 [00:19&lt;00:00, 1370.52 examples/s]"
     }
    },
    "0b8bb552ad244d42b9533322686131e7": {
     "model_module": "@jupyter-widgets/base",
     "model_module_version": "1.2.0",
     "model_name": "LayoutModel",
     "state": {
      "_model_module": "@jupyter-widgets/base",
      "_model_module_version": "1.2.0",
      "_model_name": "LayoutModel",
      "_view_count": null,
      "_view_module": "@jupyter-widgets/base",
      "_view_module_version": "1.2.0",
      "_view_name": "LayoutView",
      "align_content": null,
      "align_items": null,
      "align_self": null,
      "border": null,
      "bottom": null,
      "display": null,
      "flex": null,
      "flex_flow": null,
      "grid_area": null,
      "grid_auto_columns": null,
      "grid_auto_flow": null,
      "grid_auto_rows": null,
      "grid_column": null,
      "grid_gap": null,
      "grid_row": null,
      "grid_template_areas": null,
      "grid_template_columns": null,
      "grid_template_rows": null,
      "height": null,
      "justify_content": null,
      "justify_items": null,
      "left": null,
      "margin": null,
      "max_height": null,
      "max_width": null,
      "min_height": null,
      "min_width": null,
      "object_fit": null,
      "object_position": null,
      "order": null,
      "overflow": null,
      "overflow_x": null,
      "overflow_y": null,
      "padding": null,
      "right": null,
      "top": null,
      "visibility": null,
      "width": null
     }
    },
    "0ba932b44ba84615a42c3b987d6d3473": {
     "model_module": "@jupyter-widgets/controls",
     "model_module_version": "1.5.0",
     "model_name": "HTMLModel",
     "state": {
      "_dom_classes": [],
      "_model_module": "@jupyter-widgets/controls",
      "_model_module_version": "1.5.0",
      "_model_name": "HTMLModel",
      "_view_count": null,
      "_view_module": "@jupyter-widgets/controls",
      "_view_module_version": "1.5.0",
      "_view_name": "HTMLView",
      "description": "",
      "description_tooltip": null,
      "layout": "IPY_MODEL_0bebf6efeb504ebaa62f92578b38f945",
      "placeholder": "​",
      "style": "IPY_MODEL_64e9ead1bbaa4987a2ae6f711c48c371",
      "value": " 529945/531131 [06:39&lt;00:00, 1377.78 examples/s]"
     }
    },
    "0bebf6efeb504ebaa62f92578b38f945": {
     "model_module": "@jupyter-widgets/base",
     "model_module_version": "1.2.0",
     "model_name": "LayoutModel",
     "state": {
      "_model_module": "@jupyter-widgets/base",
      "_model_module_version": "1.2.0",
      "_model_name": "LayoutModel",
      "_view_count": null,
      "_view_module": "@jupyter-widgets/base",
      "_view_module_version": "1.2.0",
      "_view_name": "LayoutView",
      "align_content": null,
      "align_items": null,
      "align_self": null,
      "border": null,
      "bottom": null,
      "display": null,
      "flex": null,
      "flex_flow": null,
      "grid_area": null,
      "grid_auto_columns": null,
      "grid_auto_flow": null,
      "grid_auto_rows": null,
      "grid_column": null,
      "grid_gap": null,
      "grid_row": null,
      "grid_template_areas": null,
      "grid_template_columns": null,
      "grid_template_rows": null,
      "height": null,
      "justify_content": null,
      "justify_items": null,
      "left": null,
      "margin": null,
      "max_height": null,
      "max_width": null,
      "min_height": null,
      "min_width": null,
      "object_fit": null,
      "object_position": null,
      "order": null,
      "overflow": null,
      "overflow_x": null,
      "overflow_y": null,
      "padding": null,
      "right": null,
      "top": null,
      "visibility": null,
      "width": null
     }
    },
    "0c08618582044c8ab31378cfd0c10b3e": {
     "model_module": "@jupyter-widgets/controls",
     "model_module_version": "1.5.0",
     "model_name": "HTMLModel",
     "state": {
      "_dom_classes": [],
      "_model_module": "@jupyter-widgets/controls",
      "_model_module_version": "1.5.0",
      "_model_name": "HTMLModel",
      "_view_count": null,
      "_view_module": "@jupyter-widgets/controls",
      "_view_module_version": "1.5.0",
      "_view_name": "HTMLView",
      "description": "",
      "description_tooltip": null,
      "layout": "IPY_MODEL_ddccef96f0e7476c976c0463ae6e50ac",
      "placeholder": "​",
      "style": "IPY_MODEL_aec5eadbbd154a11861a337b270d058c",
      "value": " 480334/531131 [00:03&lt;00:00, 171212.69 examples/s]"
     }
    },
    "0c632a010f8e4f7b8cbe4ff1d484b7f3": {
     "model_module": "@jupyter-widgets/base",
     "model_module_version": "1.2.0",
     "model_name": "LayoutModel",
     "state": {
      "_model_module": "@jupyter-widgets/base",
      "_model_module_version": "1.2.0",
      "_model_name": "LayoutModel",
      "_view_count": null,
      "_view_module": "@jupyter-widgets/base",
      "_view_module_version": "1.2.0",
      "_view_name": "LayoutView",
      "align_content": null,
      "align_items": null,
      "align_self": null,
      "border": null,
      "bottom": null,
      "display": null,
      "flex": null,
      "flex_flow": null,
      "grid_area": null,
      "grid_auto_columns": null,
      "grid_auto_flow": null,
      "grid_auto_rows": null,
      "grid_column": null,
      "grid_gap": null,
      "grid_row": null,
      "grid_template_areas": null,
      "grid_template_columns": null,
      "grid_template_rows": null,
      "height": null,
      "justify_content": null,
      "justify_items": null,
      "left": null,
      "margin": null,
      "max_height": null,
      "max_width": null,
      "min_height": null,
      "min_width": null,
      "object_fit": null,
      "object_position": null,
      "order": null,
      "overflow": null,
      "overflow_x": null,
      "overflow_y": null,
      "padding": null,
      "right": null,
      "top": null,
      "visibility": null,
      "width": null
     }
    },
    "0c687fbdca804ed6a431323f47064074": {
     "model_module": "@jupyter-widgets/controls",
     "model_module_version": "1.5.0",
     "model_name": "HTMLModel",
     "state": {
      "_dom_classes": [],
      "_model_module": "@jupyter-widgets/controls",
      "_model_module_version": "1.5.0",
      "_model_name": "HTMLModel",
      "_view_count": null,
      "_view_module": "@jupyter-widgets/controls",
      "_view_module_version": "1.5.0",
      "_view_name": "HTMLView",
      "description": "",
      "description_tooltip": null,
      "layout": "IPY_MODEL_c06622165a3b40b782f70286b068c64d",
      "placeholder": "​",
      "style": "IPY_MODEL_38429dc746db4e689f572ead5193e2ef",
      "value": " 3/3 [00:37&lt;00:00, 15.02s/ url]"
     }
    },
    "0c7e9da1947c42a9b0165fd5dd9278ad": {
     "model_module": "@jupyter-widgets/base",
     "model_module_version": "1.2.0",
     "model_name": "LayoutModel",
     "state": {
      "_model_module": "@jupyter-widgets/base",
      "_model_module_version": "1.2.0",
      "_model_name": "LayoutModel",
      "_view_count": null,
      "_view_module": "@jupyter-widgets/base",
      "_view_module_version": "1.2.0",
      "_view_name": "LayoutView",
      "align_content": null,
      "align_items": null,
      "align_self": null,
      "border": null,
      "bottom": null,
      "display": null,
      "flex": null,
      "flex_flow": null,
      "grid_area": null,
      "grid_auto_columns": null,
      "grid_auto_flow": null,
      "grid_auto_rows": null,
      "grid_column": null,
      "grid_gap": null,
      "grid_row": null,
      "grid_template_areas": null,
      "grid_template_columns": null,
      "grid_template_rows": null,
      "height": null,
      "justify_content": null,
      "justify_items": null,
      "left": null,
      "margin": null,
      "max_height": null,
      "max_width": null,
      "min_height": null,
      "min_width": null,
      "object_fit": null,
      "object_position": null,
      "order": null,
      "overflow": null,
      "overflow_x": null,
      "overflow_y": null,
      "padding": null,
      "right": null,
      "top": null,
      "visibility": null,
      "width": null
     }
    },
    "0db75e4258bb41569becf72f5d2c7f9e": {
     "model_module": "@jupyter-widgets/controls",
     "model_module_version": "1.5.0",
     "model_name": "HBoxModel",
     "state": {
      "_dom_classes": [],
      "_model_module": "@jupyter-widgets/controls",
      "_model_module_version": "1.5.0",
      "_model_name": "HBoxModel",
      "_view_count": null,
      "_view_module": "@jupyter-widgets/controls",
      "_view_module_version": "1.5.0",
      "_view_name": "HBoxView",
      "box_style": "",
      "children": [
       "IPY_MODEL_3e66f6734b704109931842fef4be05d5",
       "IPY_MODEL_fe598ee3a702497c8f46ee5d00ddfb7f",
       "IPY_MODEL_027ff01200094cce87ce6bb2e043b08f"
      ],
      "layout": "IPY_MODEL_332e46b07a814591a6944c3ec03ac8bb"
     }
    },
    "0dc3b1f3bfc049bcb85fd1a275f2ce00": {
     "model_module": "@jupyter-widgets/controls",
     "model_module_version": "1.5.0",
     "model_name": "ProgressStyleModel",
     "state": {
      "_model_module": "@jupyter-widgets/controls",
      "_model_module_version": "1.5.0",
      "_model_name": "ProgressStyleModel",
      "_view_count": null,
      "_view_module": "@jupyter-widgets/base",
      "_view_module_version": "1.2.0",
      "_view_name": "StyleView",
      "bar_color": null,
      "description_width": ""
     }
    },
    "0dfc740944ce43668c25ac3c5749f777": {
     "model_module": "@jupyter-widgets/controls",
     "model_module_version": "1.5.0",
     "model_name": "HTMLModel",
     "state": {
      "_dom_classes": [],
      "_model_module": "@jupyter-widgets/controls",
      "_model_module_version": "1.5.0",
      "_model_name": "HTMLModel",
      "_view_count": null,
      "_view_module": "@jupyter-widgets/controls",
      "_view_module_version": "1.5.0",
      "_view_name": "HTMLView",
      "description": "",
      "description_tooltip": null,
      "layout": "IPY_MODEL_01d3a8c811af4bc3adf3d5b207b710b6",
      "placeholder": "​",
      "style": "IPY_MODEL_db9dcf4f40e24e4094c8073f6b28ba2e",
      "value": " 72298/73257 [00:54&lt;00:00, 1402.57 examples/s]"
     }
    },
    "116f1a12c0ce406eb819c2c607d27527": {
     "model_module": "@jupyter-widgets/base",
     "model_module_version": "1.2.0",
     "model_name": "LayoutModel",
     "state": {
      "_model_module": "@jupyter-widgets/base",
      "_model_module_version": "1.2.0",
      "_model_name": "LayoutModel",
      "_view_count": null,
      "_view_module": "@jupyter-widgets/base",
      "_view_module_version": "1.2.0",
      "_view_name": "LayoutView",
      "align_content": null,
      "align_items": null,
      "align_self": null,
      "border": null,
      "bottom": null,
      "display": null,
      "flex": null,
      "flex_flow": null,
      "grid_area": null,
      "grid_auto_columns": null,
      "grid_auto_flow": null,
      "grid_auto_rows": null,
      "grid_column": null,
      "grid_gap": null,
      "grid_row": null,
      "grid_template_areas": null,
      "grid_template_columns": null,
      "grid_template_rows": null,
      "height": null,
      "justify_content": null,
      "justify_items": null,
      "left": null,
      "margin": null,
      "max_height": null,
      "max_width": null,
      "min_height": null,
      "min_width": null,
      "object_fit": null,
      "object_position": null,
      "order": null,
      "overflow": null,
      "overflow_x": null,
      "overflow_y": null,
      "padding": null,
      "right": null,
      "top": null,
      "visibility": null,
      "width": null
     }
    },
    "119b5e43204a434e92dc98fbc6faa720": {
     "model_module": "@jupyter-widgets/controls",
     "model_module_version": "1.5.0",
     "model_name": "DescriptionStyleModel",
     "state": {
      "_model_module": "@jupyter-widgets/controls",
      "_model_module_version": "1.5.0",
      "_model_name": "DescriptionStyleModel",
      "_view_count": null,
      "_view_module": "@jupyter-widgets/base",
      "_view_module_version": "1.2.0",
      "_view_name": "StyleView",
      "description_width": ""
     }
    },
    "1bfa460ef3614c34aa2ae3c01a78891c": {
     "model_module": "@jupyter-widgets/base",
     "model_module_version": "1.2.0",
     "model_name": "LayoutModel",
     "state": {
      "_model_module": "@jupyter-widgets/base",
      "_model_module_version": "1.2.0",
      "_model_name": "LayoutModel",
      "_view_count": null,
      "_view_module": "@jupyter-widgets/base",
      "_view_module_version": "1.2.0",
      "_view_name": "LayoutView",
      "align_content": null,
      "align_items": null,
      "align_self": null,
      "border": null,
      "bottom": null,
      "display": null,
      "flex": null,
      "flex_flow": null,
      "grid_area": null,
      "grid_auto_columns": null,
      "grid_auto_flow": null,
      "grid_auto_rows": null,
      "grid_column": null,
      "grid_gap": null,
      "grid_row": null,
      "grid_template_areas": null,
      "grid_template_columns": null,
      "grid_template_rows": null,
      "height": null,
      "justify_content": null,
      "justify_items": null,
      "left": null,
      "margin": null,
      "max_height": null,
      "max_width": null,
      "min_height": null,
      "min_width": null,
      "object_fit": null,
      "object_position": null,
      "order": null,
      "overflow": null,
      "overflow_x": null,
      "overflow_y": null,
      "padding": null,
      "right": null,
      "top": null,
      "visibility": null,
      "width": null
     }
    },
    "1f1d4cf500c34a5ca946c32f0c0f7cf7": {
     "model_module": "@jupyter-widgets/controls",
     "model_module_version": "1.5.0",
     "model_name": "HTMLModel",
     "state": {
      "_dom_classes": [],
      "_model_module": "@jupyter-widgets/controls",
      "_model_module_version": "1.5.0",
      "_model_name": "HTMLModel",
      "_view_count": null,
      "_view_module": "@jupyter-widgets/controls",
      "_view_module_version": "1.5.0",
      "_view_name": "HTMLView",
      "description": "",
      "description_tooltip": null,
      "layout": "IPY_MODEL_d088f0f6acf543bb80122868807b0c4a",
      "placeholder": "​",
      "style": "IPY_MODEL_88bcfdd1b8294d0f8581af7f61edf7a4",
      "value": "Generating splits...: 100%"
     }
    },
    "208dd952680f4e0a9b50f12b933cc647": {
     "model_module": "@jupyter-widgets/base",
     "model_module_version": "1.2.0",
     "model_name": "LayoutModel",
     "state": {
      "_model_module": "@jupyter-widgets/base",
      "_model_module_version": "1.2.0",
      "_model_name": "LayoutModel",
      "_view_count": null,
      "_view_module": "@jupyter-widgets/base",
      "_view_module_version": "1.2.0",
      "_view_name": "LayoutView",
      "align_content": null,
      "align_items": null,
      "align_self": null,
      "border": null,
      "bottom": null,
      "display": null,
      "flex": null,
      "flex_flow": null,
      "grid_area": null,
      "grid_auto_columns": null,
      "grid_auto_flow": null,
      "grid_auto_rows": null,
      "grid_column": null,
      "grid_gap": null,
      "grid_row": null,
      "grid_template_areas": null,
      "grid_template_columns": null,
      "grid_template_rows": null,
      "height": null,
      "justify_content": null,
      "justify_items": null,
      "left": null,
      "margin": null,
      "max_height": null,
      "max_width": null,
      "min_height": null,
      "min_width": null,
      "object_fit": null,
      "object_position": null,
      "order": null,
      "overflow": null,
      "overflow_x": null,
      "overflow_y": null,
      "padding": null,
      "right": null,
      "top": null,
      "visibility": null,
      "width": null
     }
    },
    "24d8ec101b884739b83ffc39a275b55e": {
     "model_module": "@jupyter-widgets/controls",
     "model_module_version": "1.5.0",
     "model_name": "FloatProgressModel",
     "state": {
      "_dom_classes": [],
      "_model_module": "@jupyter-widgets/controls",
      "_model_module_version": "1.5.0",
      "_model_name": "FloatProgressModel",
      "_view_count": null,
      "_view_module": "@jupyter-widgets/controls",
      "_view_module_version": "1.5.0",
      "_view_name": "ProgressView",
      "bar_style": "",
      "description": "",
      "description_tooltip": null,
      "layout": "IPY_MODEL_b76f2b17885042c6853f38e485cca459",
      "max": 3,
      "min": 0,
      "orientation": "horizontal",
      "style": "IPY_MODEL_c121b9feebc44ba59d11ff5016b1aa0e",
      "value": 3
     }
    },
    "26cb4b15afdf4a23b7cb796127b9e129": {
     "model_module": "@jupyter-widgets/controls",
     "model_module_version": "1.5.0",
     "model_name": "ProgressStyleModel",
     "state": {
      "_model_module": "@jupyter-widgets/controls",
      "_model_module_version": "1.5.0",
      "_model_name": "ProgressStyleModel",
      "_view_count": null,
      "_view_module": "@jupyter-widgets/base",
      "_view_module_version": "1.2.0",
      "_view_name": "StyleView",
      "bar_color": null,
      "description_width": ""
     }
    },
    "288fbe959f3a4ec39e688b1eeb31fad9": {
     "model_module": "@jupyter-widgets/base",
     "model_module_version": "1.2.0",
     "model_name": "LayoutModel",
     "state": {
      "_model_module": "@jupyter-widgets/base",
      "_model_module_version": "1.2.0",
      "_model_name": "LayoutModel",
      "_view_count": null,
      "_view_module": "@jupyter-widgets/base",
      "_view_module_version": "1.2.0",
      "_view_name": "LayoutView",
      "align_content": null,
      "align_items": null,
      "align_self": null,
      "border": null,
      "bottom": null,
      "display": null,
      "flex": null,
      "flex_flow": null,
      "grid_area": null,
      "grid_auto_columns": null,
      "grid_auto_flow": null,
      "grid_auto_rows": null,
      "grid_column": null,
      "grid_gap": null,
      "grid_row": null,
      "grid_template_areas": null,
      "grid_template_columns": null,
      "grid_template_rows": null,
      "height": null,
      "justify_content": null,
      "justify_items": null,
      "left": null,
      "margin": null,
      "max_height": null,
      "max_width": null,
      "min_height": null,
      "min_width": null,
      "object_fit": null,
      "object_position": null,
      "order": null,
      "overflow": null,
      "overflow_x": null,
      "overflow_y": null,
      "padding": null,
      "right": null,
      "top": null,
      "visibility": "hidden",
      "width": null
     }
    },
    "2925360fdd7e4125b33747337e05808e": {
     "model_module": "@jupyter-widgets/controls",
     "model_module_version": "1.5.0",
     "model_name": "FloatProgressModel",
     "state": {
      "_dom_classes": [],
      "_model_module": "@jupyter-widgets/controls",
      "_model_module_version": "1.5.0",
      "_model_name": "FloatProgressModel",
      "_view_count": null,
      "_view_module": "@jupyter-widgets/controls",
      "_view_module_version": "1.5.0",
      "_view_name": "ProgressView",
      "bar_style": "success",
      "description": "",
      "description_tooltip": null,
      "layout": "IPY_MODEL_a684242573dc4c9f869d8bcf895a568c",
      "max": 1,
      "min": 0,
      "orientation": "horizontal",
      "style": "IPY_MODEL_427a541cbcbc4502a8b7bb1ef42bf0a3",
      "value": 1
     }
    },
    "2f7a05b497de45768a53ec8eb803e099": {
     "model_module": "@jupyter-widgets/controls",
     "model_module_version": "1.5.0",
     "model_name": "DescriptionStyleModel",
     "state": {
      "_model_module": "@jupyter-widgets/controls",
      "_model_module_version": "1.5.0",
      "_model_name": "DescriptionStyleModel",
      "_view_count": null,
      "_view_module": "@jupyter-widgets/base",
      "_view_module_version": "1.2.0",
      "_view_name": "StyleView",
      "description_width": ""
     }
    },
    "329a18a5ef8646ef93af158fde6de169": {
     "model_module": "@jupyter-widgets/controls",
     "model_module_version": "1.5.0",
     "model_name": "DescriptionStyleModel",
     "state": {
      "_model_module": "@jupyter-widgets/controls",
      "_model_module_version": "1.5.0",
      "_model_name": "DescriptionStyleModel",
      "_view_count": null,
      "_view_module": "@jupyter-widgets/base",
      "_view_module_version": "1.2.0",
      "_view_name": "StyleView",
      "description_width": ""
     }
    },
    "332e46b07a814591a6944c3ec03ac8bb": {
     "model_module": "@jupyter-widgets/base",
     "model_module_version": "1.2.0",
     "model_name": "LayoutModel",
     "state": {
      "_model_module": "@jupyter-widgets/base",
      "_model_module_version": "1.2.0",
      "_model_name": "LayoutModel",
      "_view_count": null,
      "_view_module": "@jupyter-widgets/base",
      "_view_module_version": "1.2.0",
      "_view_name": "LayoutView",
      "align_content": null,
      "align_items": null,
      "align_self": null,
      "border": null,
      "bottom": null,
      "display": null,
      "flex": null,
      "flex_flow": null,
      "grid_area": null,
      "grid_auto_columns": null,
      "grid_auto_flow": null,
      "grid_auto_rows": null,
      "grid_column": null,
      "grid_gap": null,
      "grid_row": null,
      "grid_template_areas": null,
      "grid_template_columns": null,
      "grid_template_rows": null,
      "height": null,
      "justify_content": null,
      "justify_items": null,
      "left": null,
      "margin": null,
      "max_height": null,
      "max_width": null,
      "min_height": null,
      "min_width": null,
      "object_fit": null,
      "object_position": null,
      "order": null,
      "overflow": null,
      "overflow_x": null,
      "overflow_y": null,
      "padding": null,
      "right": null,
      "top": null,
      "visibility": null,
      "width": null
     }
    },
    "37cfd22d96ef4b0297d785a0a00d1704": {
     "model_module": "@jupyter-widgets/base",
     "model_module_version": "1.2.0",
     "model_name": "LayoutModel",
     "state": {
      "_model_module": "@jupyter-widgets/base",
      "_model_module_version": "1.2.0",
      "_model_name": "LayoutModel",
      "_view_count": null,
      "_view_module": "@jupyter-widgets/base",
      "_view_module_version": "1.2.0",
      "_view_name": "LayoutView",
      "align_content": null,
      "align_items": null,
      "align_self": null,
      "border": null,
      "bottom": null,
      "display": null,
      "flex": null,
      "flex_flow": null,
      "grid_area": null,
      "grid_auto_columns": null,
      "grid_auto_flow": null,
      "grid_auto_rows": null,
      "grid_column": null,
      "grid_gap": null,
      "grid_row": null,
      "grid_template_areas": null,
      "grid_template_columns": null,
      "grid_template_rows": null,
      "height": null,
      "justify_content": null,
      "justify_items": null,
      "left": null,
      "margin": null,
      "max_height": null,
      "max_width": null,
      "min_height": null,
      "min_width": null,
      "object_fit": null,
      "object_position": null,
      "order": null,
      "overflow": null,
      "overflow_x": null,
      "overflow_y": null,
      "padding": null,
      "right": null,
      "top": null,
      "visibility": null,
      "width": null
     }
    },
    "38429dc746db4e689f572ead5193e2ef": {
     "model_module": "@jupyter-widgets/controls",
     "model_module_version": "1.5.0",
     "model_name": "DescriptionStyleModel",
     "state": {
      "_model_module": "@jupyter-widgets/controls",
      "_model_module_version": "1.5.0",
      "_model_name": "DescriptionStyleModel",
      "_view_count": null,
      "_view_module": "@jupyter-widgets/base",
      "_view_module_version": "1.2.0",
      "_view_name": "StyleView",
      "description_width": ""
     }
    },
    "38549af09a5641f488052b2fdd045fa1": {
     "model_module": "@jupyter-widgets/controls",
     "model_module_version": "1.5.0",
     "model_name": "DescriptionStyleModel",
     "state": {
      "_model_module": "@jupyter-widgets/controls",
      "_model_module_version": "1.5.0",
      "_model_name": "DescriptionStyleModel",
      "_view_count": null,
      "_view_module": "@jupyter-widgets/base",
      "_view_module_version": "1.2.0",
      "_view_name": "StyleView",
      "description_width": ""
     }
    },
    "3d7ba489dbbd468ab9359d58504be662": {
     "model_module": "@jupyter-widgets/controls",
     "model_module_version": "1.5.0",
     "model_name": "HBoxModel",
     "state": {
      "_dom_classes": [],
      "_model_module": "@jupyter-widgets/controls",
      "_model_module_version": "1.5.0",
      "_model_name": "HBoxModel",
      "_view_count": null,
      "_view_module": "@jupyter-widgets/controls",
      "_view_module_version": "1.5.0",
      "_view_name": "HBoxView",
      "box_style": "",
      "children": [
       "IPY_MODEL_dc13796a3611411bbad2b86cdaa04972",
       "IPY_MODEL_2925360fdd7e4125b33747337e05808e",
       "IPY_MODEL_5ccadc031265404a8ab703f89d205459"
      ],
      "layout": "IPY_MODEL_1bfa460ef3614c34aa2ae3c01a78891c"
     }
    },
    "3d996de8e707478fad34b91a8bee4f97": {
     "model_module": "@jupyter-widgets/controls",
     "model_module_version": "1.5.0",
     "model_name": "ProgressStyleModel",
     "state": {
      "_model_module": "@jupyter-widgets/controls",
      "_model_module_version": "1.5.0",
      "_model_name": "ProgressStyleModel",
      "_view_count": null,
      "_view_module": "@jupyter-widgets/base",
      "_view_module_version": "1.2.0",
      "_view_name": "StyleView",
      "bar_color": null,
      "description_width": ""
     }
    },
    "3e66f6734b704109931842fef4be05d5": {
     "model_module": "@jupyter-widgets/controls",
     "model_module_version": "1.5.0",
     "model_name": "HTMLModel",
     "state": {
      "_dom_classes": [],
      "_model_module": "@jupyter-widgets/controls",
      "_model_module_version": "1.5.0",
      "_model_name": "HTMLModel",
      "_view_count": null,
      "_view_module": "@jupyter-widgets/controls",
      "_view_module_version": "1.5.0",
      "_view_name": "HTMLView",
      "description": "",
      "description_tooltip": null,
      "layout": "IPY_MODEL_ac4dca0c194b4d868b21dfa70f1dcfed",
      "placeholder": "​",
      "style": "IPY_MODEL_dca7c490d02148fb8dcfecbab5bee163",
      "value": "Dl Completed...: 100%"
     }
    },
    "3f2e128f667e46309b1134f83f5ee0c2": {
     "model_module": "@jupyter-widgets/controls",
     "model_module_version": "1.5.0",
     "model_name": "HTMLModel",
     "state": {
      "_dom_classes": [],
      "_model_module": "@jupyter-widgets/controls",
      "_model_module_version": "1.5.0",
      "_model_name": "HTMLModel",
      "_view_count": null,
      "_view_module": "@jupyter-widgets/controls",
      "_view_module_version": "1.5.0",
      "_view_name": "HTMLView",
      "description": "",
      "description_tooltip": null,
      "layout": "IPY_MODEL_0c7e9da1947c42a9b0165fd5dd9278ad",
      "placeholder": "​",
      "style": "IPY_MODEL_f88b680bc70e41d694e74c4cbbd555bd",
      "value": "Shuffling data_dir/svhn_cropped/incomplete.29I6G6_3.1.0/svhn_cropped-train.tfrecord*...:   0%"
     }
    },
    "412b5771d4894ac8a7e31468b0c9710c": {
     "model_module": "@jupyter-widgets/base",
     "model_module_version": "1.2.0",
     "model_name": "LayoutModel",
     "state": {
      "_model_module": "@jupyter-widgets/base",
      "_model_module_version": "1.2.0",
      "_model_name": "LayoutModel",
      "_view_count": null,
      "_view_module": "@jupyter-widgets/base",
      "_view_module_version": "1.2.0",
      "_view_name": "LayoutView",
      "align_content": null,
      "align_items": null,
      "align_self": null,
      "border": null,
      "bottom": null,
      "display": null,
      "flex": null,
      "flex_flow": null,
      "grid_area": null,
      "grid_auto_columns": null,
      "grid_auto_flow": null,
      "grid_auto_rows": null,
      "grid_column": null,
      "grid_gap": null,
      "grid_row": null,
      "grid_template_areas": null,
      "grid_template_columns": null,
      "grid_template_rows": null,
      "height": null,
      "justify_content": null,
      "justify_items": null,
      "left": null,
      "margin": null,
      "max_height": null,
      "max_width": null,
      "min_height": null,
      "min_width": null,
      "object_fit": null,
      "object_position": null,
      "order": null,
      "overflow": null,
      "overflow_x": null,
      "overflow_y": null,
      "padding": null,
      "right": null,
      "top": null,
      "visibility": null,
      "width": null
     }
    },
    "427a541cbcbc4502a8b7bb1ef42bf0a3": {
     "model_module": "@jupyter-widgets/controls",
     "model_module_version": "1.5.0",
     "model_name": "ProgressStyleModel",
     "state": {
      "_model_module": "@jupyter-widgets/controls",
      "_model_module_version": "1.5.0",
      "_model_name": "ProgressStyleModel",
      "_view_count": null,
      "_view_module": "@jupyter-widgets/base",
      "_view_module_version": "1.2.0",
      "_view_name": "StyleView",
      "bar_color": null,
      "description_width": ""
     }
    },
    "433abedc955749579f46e9f18076273b": {
     "model_module": "@jupyter-widgets/controls",
     "model_module_version": "1.5.0",
     "model_name": "FloatProgressModel",
     "state": {
      "_dom_classes": [],
      "_model_module": "@jupyter-widgets/controls",
      "_model_module_version": "1.5.0",
      "_model_name": "FloatProgressModel",
      "_view_count": null,
      "_view_module": "@jupyter-widgets/controls",
      "_view_module_version": "1.5.0",
      "_view_name": "ProgressView",
      "bar_style": "success",
      "description": "",
      "description_tooltip": null,
      "layout": "IPY_MODEL_e5b357c610fd4db8b8edf9b7d6c26b89",
      "max": 1,
      "min": 0,
      "orientation": "horizontal",
      "style": "IPY_MODEL_0dc3b1f3bfc049bcb85fd1a275f2ce00",
      "value": 1
     }
    },
    "48f1b68f87c34c3f91e40a0a1953c951": {
     "model_module": "@jupyter-widgets/base",
     "model_module_version": "1.2.0",
     "model_name": "LayoutModel",
     "state": {
      "_model_module": "@jupyter-widgets/base",
      "_model_module_version": "1.2.0",
      "_model_name": "LayoutModel",
      "_view_count": null,
      "_view_module": "@jupyter-widgets/base",
      "_view_module_version": "1.2.0",
      "_view_name": "LayoutView",
      "align_content": null,
      "align_items": null,
      "align_self": null,
      "border": null,
      "bottom": null,
      "display": null,
      "flex": null,
      "flex_flow": null,
      "grid_area": null,
      "grid_auto_columns": null,
      "grid_auto_flow": null,
      "grid_auto_rows": null,
      "grid_column": null,
      "grid_gap": null,
      "grid_row": null,
      "grid_template_areas": null,
      "grid_template_columns": null,
      "grid_template_rows": null,
      "height": null,
      "justify_content": null,
      "justify_items": null,
      "left": null,
      "margin": null,
      "max_height": null,
      "max_width": null,
      "min_height": null,
      "min_width": null,
      "object_fit": null,
      "object_position": null,
      "order": null,
      "overflow": null,
      "overflow_x": null,
      "overflow_y": null,
      "padding": null,
      "right": null,
      "top": null,
      "visibility": null,
      "width": null
     }
    },
    "49bc818d5d484039b011872984fc7fdb": {
     "model_module": "@jupyter-widgets/base",
     "model_module_version": "1.2.0",
     "model_name": "LayoutModel",
     "state": {
      "_model_module": "@jupyter-widgets/base",
      "_model_module_version": "1.2.0",
      "_model_name": "LayoutModel",
      "_view_count": null,
      "_view_module": "@jupyter-widgets/base",
      "_view_module_version": "1.2.0",
      "_view_name": "LayoutView",
      "align_content": null,
      "align_items": null,
      "align_self": null,
      "border": null,
      "bottom": null,
      "display": null,
      "flex": null,
      "flex_flow": null,
      "grid_area": null,
      "grid_auto_columns": null,
      "grid_auto_flow": null,
      "grid_auto_rows": null,
      "grid_column": null,
      "grid_gap": null,
      "grid_row": null,
      "grid_template_areas": null,
      "grid_template_columns": null,
      "grid_template_rows": null,
      "height": null,
      "justify_content": null,
      "justify_items": null,
      "left": null,
      "margin": null,
      "max_height": null,
      "max_width": null,
      "min_height": null,
      "min_width": null,
      "object_fit": null,
      "object_position": null,
      "order": null,
      "overflow": null,
      "overflow_x": null,
      "overflow_y": null,
      "padding": null,
      "right": null,
      "top": null,
      "visibility": "hidden",
      "width": null
     }
    },
    "4b8b2a69f8d9459b8e89e51e04f952f5": {
     "model_module": "@jupyter-widgets/controls",
     "model_module_version": "1.5.0",
     "model_name": "HBoxModel",
     "state": {
      "_dom_classes": [],
      "_model_module": "@jupyter-widgets/controls",
      "_model_module_version": "1.5.0",
      "_model_name": "HBoxModel",
      "_view_count": null,
      "_view_module": "@jupyter-widgets/controls",
      "_view_module_version": "1.5.0",
      "_view_name": "HBoxView",
      "box_style": "",
      "children": [
       "IPY_MODEL_5cbdd8939bcc4a0f8705c473fac2a384",
       "IPY_MODEL_e0c0bc60c05f4bcd9916a32fc2a36865",
       "IPY_MODEL_68141c60f449436bb262d94fbc1293c7"
      ],
      "layout": "IPY_MODEL_b02f10eb5e77438db2bf55e2d5afb2d7"
     }
    },
    "582273d3e3f442b19a2649c271d9666f": {
     "model_module": "@jupyter-widgets/controls",
     "model_module_version": "1.5.0",
     "model_name": "DescriptionStyleModel",
     "state": {
      "_model_module": "@jupyter-widgets/controls",
      "_model_module_version": "1.5.0",
      "_model_name": "DescriptionStyleModel",
      "_view_count": null,
      "_view_module": "@jupyter-widgets/base",
      "_view_module_version": "1.2.0",
      "_view_name": "StyleView",
      "description_width": ""
     }
    },
    "59aebfe26aaa440fbed5dcca6cf28790": {
     "model_module": "@jupyter-widgets/controls",
     "model_module_version": "1.5.0",
     "model_name": "ProgressStyleModel",
     "state": {
      "_model_module": "@jupyter-widgets/controls",
      "_model_module_version": "1.5.0",
      "_model_name": "ProgressStyleModel",
      "_view_count": null,
      "_view_module": "@jupyter-widgets/base",
      "_view_module_version": "1.2.0",
      "_view_name": "StyleView",
      "bar_color": null,
      "description_width": ""
     }
    },
    "5b49f208a0584a96ba55b94ebbd40c96": {
     "model_module": "@jupyter-widgets/base",
     "model_module_version": "1.2.0",
     "model_name": "LayoutModel",
     "state": {
      "_model_module": "@jupyter-widgets/base",
      "_model_module_version": "1.2.0",
      "_model_name": "LayoutModel",
      "_view_count": null,
      "_view_module": "@jupyter-widgets/base",
      "_view_module_version": "1.2.0",
      "_view_name": "LayoutView",
      "align_content": null,
      "align_items": null,
      "align_self": null,
      "border": null,
      "bottom": null,
      "display": null,
      "flex": null,
      "flex_flow": null,
      "grid_area": null,
      "grid_auto_columns": null,
      "grid_auto_flow": null,
      "grid_auto_rows": null,
      "grid_column": null,
      "grid_gap": null,
      "grid_row": null,
      "grid_template_areas": null,
      "grid_template_columns": null,
      "grid_template_rows": null,
      "height": null,
      "justify_content": null,
      "justify_items": null,
      "left": null,
      "margin": null,
      "max_height": null,
      "max_width": null,
      "min_height": null,
      "min_width": null,
      "object_fit": null,
      "object_position": null,
      "order": null,
      "overflow": null,
      "overflow_x": null,
      "overflow_y": null,
      "padding": null,
      "right": null,
      "top": null,
      "visibility": null,
      "width": null
     }
    },
    "5bebb6df40e54a07ad640537d41b134f": {
     "model_module": "@jupyter-widgets/controls",
     "model_module_version": "1.5.0",
     "model_name": "DescriptionStyleModel",
     "state": {
      "_model_module": "@jupyter-widgets/controls",
      "_model_module_version": "1.5.0",
      "_model_name": "DescriptionStyleModel",
      "_view_count": null,
      "_view_module": "@jupyter-widgets/base",
      "_view_module_version": "1.2.0",
      "_view_name": "StyleView",
      "description_width": ""
     }
    },
    "5cbdd8939bcc4a0f8705c473fac2a384": {
     "model_module": "@jupyter-widgets/controls",
     "model_module_version": "1.5.0",
     "model_name": "HTMLModel",
     "state": {
      "_dom_classes": [],
      "_model_module": "@jupyter-widgets/controls",
      "_model_module_version": "1.5.0",
      "_model_name": "HTMLModel",
      "_view_count": null,
      "_view_module": "@jupyter-widgets/controls",
      "_view_module_version": "1.5.0",
      "_view_name": "HTMLView",
      "description": "",
      "description_tooltip": null,
      "layout": "IPY_MODEL_74ca43cb263c427e8d3d5f483d49ac42",
      "placeholder": "​",
      "style": "IPY_MODEL_966ea959aa9942ec931573b4892a363f",
      "value": "Shuffling data_dir/svhn_cropped/incomplete.29I6G6_3.1.0/svhn_cropped-test.tfrecord*...:   0%"
     }
    },
    "5ccadc031265404a8ab703f89d205459": {
     "model_module": "@jupyter-widgets/controls",
     "model_module_version": "1.5.0",
     "model_name": "HTMLModel",
     "state": {
      "_dom_classes": [],
      "_model_module": "@jupyter-widgets/controls",
      "_model_module_version": "1.5.0",
      "_model_name": "HTMLModel",
      "_view_count": null,
      "_view_module": "@jupyter-widgets/controls",
      "_view_module_version": "1.5.0",
      "_view_name": "HTMLView",
      "description": "",
      "description_tooltip": null,
      "layout": "IPY_MODEL_0c632a010f8e4f7b8cbe4ff1d484b7f3",
      "placeholder": "​",
      "style": "IPY_MODEL_119b5e43204a434e92dc98fbc6faa720",
      "value": " 1501/1501 [00:37&lt;00:00, 30.64 MiB/s]"
     }
    },
    "5daf4be2bade427494273d922b65126d": {
     "model_module": "@jupyter-widgets/controls",
     "model_module_version": "1.5.0",
     "model_name": "DescriptionStyleModel",
     "state": {
      "_model_module": "@jupyter-widgets/controls",
      "_model_module_version": "1.5.0",
      "_model_name": "DescriptionStyleModel",
      "_view_count": null,
      "_view_module": "@jupyter-widgets/base",
      "_view_module_version": "1.2.0",
      "_view_name": "StyleView",
      "description_width": ""
     }
    },
    "63085ab0b4ee45309fe5fa9b02c424d8": {
     "model_module": "@jupyter-widgets/controls",
     "model_module_version": "1.5.0",
     "model_name": "HTMLModel",
     "state": {
      "_dom_classes": [],
      "_model_module": "@jupyter-widgets/controls",
      "_model_module_version": "1.5.0",
      "_model_name": "HTMLModel",
      "_view_count": null,
      "_view_module": "@jupyter-widgets/controls",
      "_view_module_version": "1.5.0",
      "_view_name": "HTMLView",
      "description": "",
      "description_tooltip": null,
      "layout": "IPY_MODEL_e95c0b68b96641d8af6978740c74a2c7",
      "placeholder": "​",
      "style": "IPY_MODEL_582273d3e3f442b19a2649c271d9666f",
      "value": " 3/3 [07:59&lt;00:00, 203.20s/ splits]"
     }
    },
    "631e909edc53441e87a5dfa46e9da43b": {
     "model_module": "@jupyter-widgets/controls",
     "model_module_version": "1.5.0",
     "model_name": "HTMLModel",
     "state": {
      "_dom_classes": [],
      "_model_module": "@jupyter-widgets/controls",
      "_model_module_version": "1.5.0",
      "_model_name": "HTMLModel",
      "_view_count": null,
      "_view_module": "@jupyter-widgets/controls",
      "_view_module_version": "1.5.0",
      "_view_name": "HTMLView",
      "description": "",
      "description_tooltip": null,
      "layout": "IPY_MODEL_116f1a12c0ce406eb819c2c607d27527",
      "placeholder": "​",
      "style": "IPY_MODEL_76d7a54eede04c9c98e3107fd4abef3f",
      "value": "Dl Completed...: 100%"
     }
    },
    "64e9ead1bbaa4987a2ae6f711c48c371": {
     "model_module": "@jupyter-widgets/controls",
     "model_module_version": "1.5.0",
     "model_name": "DescriptionStyleModel",
     "state": {
      "_model_module": "@jupyter-widgets/controls",
      "_model_module_version": "1.5.0",
      "_model_name": "DescriptionStyleModel",
      "_view_count": null,
      "_view_module": "@jupyter-widgets/base",
      "_view_module_version": "1.2.0",
      "_view_name": "StyleView",
      "description_width": ""
     }
    },
    "655d1a1007fd4e9caa3ce0d9eb47f3ee": {
     "model_module": "@jupyter-widgets/base",
     "model_module_version": "1.2.0",
     "model_name": "LayoutModel",
     "state": {
      "_model_module": "@jupyter-widgets/base",
      "_model_module_version": "1.2.0",
      "_model_name": "LayoutModel",
      "_view_count": null,
      "_view_module": "@jupyter-widgets/base",
      "_view_module_version": "1.2.0",
      "_view_name": "LayoutView",
      "align_content": null,
      "align_items": null,
      "align_self": null,
      "border": null,
      "bottom": null,
      "display": null,
      "flex": null,
      "flex_flow": null,
      "grid_area": null,
      "grid_auto_columns": null,
      "grid_auto_flow": null,
      "grid_auto_rows": null,
      "grid_column": null,
      "grid_gap": null,
      "grid_row": null,
      "grid_template_areas": null,
      "grid_template_columns": null,
      "grid_template_rows": null,
      "height": null,
      "justify_content": null,
      "justify_items": null,
      "left": null,
      "margin": null,
      "max_height": null,
      "max_width": null,
      "min_height": null,
      "min_width": null,
      "object_fit": null,
      "object_position": null,
      "order": null,
      "overflow": null,
      "overflow_x": null,
      "overflow_y": null,
      "padding": null,
      "right": null,
      "top": null,
      "visibility": null,
      "width": null
     }
    },
    "68141c60f449436bb262d94fbc1293c7": {
     "model_module": "@jupyter-widgets/controls",
     "model_module_version": "1.5.0",
     "model_name": "HTMLModel",
     "state": {
      "_dom_classes": [],
      "_model_module": "@jupyter-widgets/controls",
      "_model_module_version": "1.5.0",
      "_model_name": "HTMLModel",
      "_view_count": null,
      "_view_module": "@jupyter-widgets/controls",
      "_view_module_version": "1.5.0",
      "_view_name": "HTMLView",
      "description": "",
      "description_tooltip": null,
      "layout": "IPY_MODEL_37cfd22d96ef4b0297d785a0a00d1704",
      "placeholder": "​",
      "style": "IPY_MODEL_5daf4be2bade427494273d922b65126d",
      "value": " 0/26032 [00:00&lt;?, ? examples/s]"
     }
    },
    "6a80449e9a3e45aa9df2263632926c73": {
     "model_module": "@jupyter-widgets/base",
     "model_module_version": "1.2.0",
     "model_name": "LayoutModel",
     "state": {
      "_model_module": "@jupyter-widgets/base",
      "_model_module_version": "1.2.0",
      "_model_name": "LayoutModel",
      "_view_count": null,
      "_view_module": "@jupyter-widgets/base",
      "_view_module_version": "1.2.0",
      "_view_name": "LayoutView",
      "align_content": null,
      "align_items": null,
      "align_self": null,
      "border": null,
      "bottom": null,
      "display": null,
      "flex": null,
      "flex_flow": null,
      "grid_area": null,
      "grid_auto_columns": null,
      "grid_auto_flow": null,
      "grid_auto_rows": null,
      "grid_column": null,
      "grid_gap": null,
      "grid_row": null,
      "grid_template_areas": null,
      "grid_template_columns": null,
      "grid_template_rows": null,
      "height": null,
      "justify_content": null,
      "justify_items": null,
      "left": null,
      "margin": null,
      "max_height": null,
      "max_width": null,
      "min_height": null,
      "min_width": null,
      "object_fit": null,
      "object_position": null,
      "order": null,
      "overflow": null,
      "overflow_x": null,
      "overflow_y": null,
      "padding": null,
      "right": null,
      "top": null,
      "visibility": null,
      "width": null
     }
    },
    "6b725ff68038400d85a889abbed5f0fb": {
     "model_module": "@jupyter-widgets/controls",
     "model_module_version": "1.5.0",
     "model_name": "HTMLModel",
     "state": {
      "_dom_classes": [],
      "_model_module": "@jupyter-widgets/controls",
      "_model_module_version": "1.5.0",
      "_model_name": "HTMLModel",
      "_view_count": null,
      "_view_module": "@jupyter-widgets/controls",
      "_view_module_version": "1.5.0",
      "_view_name": "HTMLView",
      "description": "",
      "description_tooltip": null,
      "layout": "IPY_MODEL_48f1b68f87c34c3f91e40a0a1953c951",
      "placeholder": "​",
      "style": "IPY_MODEL_329a18a5ef8646ef93af158fde6de169",
      "value": " 0/73257 [00:00&lt;?, ? examples/s]"
     }
    },
    "6dd0364e92ad43edad77a82423748ab6": {
     "model_module": "@jupyter-widgets/controls",
     "model_module_version": "1.5.0",
     "model_name": "HBoxModel",
     "state": {
      "_dom_classes": [],
      "_model_module": "@jupyter-widgets/controls",
      "_model_module_version": "1.5.0",
      "_model_name": "HBoxModel",
      "_view_count": null,
      "_view_module": "@jupyter-widgets/controls",
      "_view_module_version": "1.5.0",
      "_view_name": "HBoxView",
      "box_style": "",
      "children": [
       "IPY_MODEL_70e77f19b6244fe69c1cd4bfba2eda1e",
       "IPY_MODEL_97dda9c4160c45aca8b1442bca7ad291",
       "IPY_MODEL_0ba932b44ba84615a42c3b987d6d3473"
      ],
      "layout": "IPY_MODEL_d50de704ec3b4e14801fdae63c9e5e03"
     }
    },
    "709e3820d18240728fc34ab8cc2b5016": {
     "model_module": "@jupyter-widgets/controls",
     "model_module_version": "1.5.0",
     "model_name": "HBoxModel",
     "state": {
      "_dom_classes": [],
      "_model_module": "@jupyter-widgets/controls",
      "_model_module_version": "1.5.0",
      "_model_name": "HBoxModel",
      "_view_count": null,
      "_view_module": "@jupyter-widgets/controls",
      "_view_module_version": "1.5.0",
      "_view_name": "HBoxView",
      "box_style": "",
      "children": [
       "IPY_MODEL_9ad688aed3e540fdb0ea32921788b2b7",
       "IPY_MODEL_c927bb52707a44599c4c7f33551d5c97",
       "IPY_MODEL_057fca36ba644a43b09a51a9c4baad74"
      ],
      "layout": "IPY_MODEL_288fbe959f3a4ec39e688b1eeb31fad9"
     }
    },
    "70e77f19b6244fe69c1cd4bfba2eda1e": {
     "model_module": "@jupyter-widgets/controls",
     "model_module_version": "1.5.0",
     "model_name": "HTMLModel",
     "state": {
      "_dom_classes": [],
      "_model_module": "@jupyter-widgets/controls",
      "_model_module_version": "1.5.0",
      "_model_name": "HTMLModel",
      "_view_count": null,
      "_view_module": "@jupyter-widgets/controls",
      "_view_module_version": "1.5.0",
      "_view_name": "HTMLView",
      "description": "",
      "description_tooltip": null,
      "layout": "IPY_MODEL_f4b1a2ba11aa4966a347ca690124f308",
      "placeholder": "​",
      "style": "IPY_MODEL_38549af09a5641f488052b2fdd045fa1",
      "value": "Generating extra examples...: 100%"
     }
    },
    "7378406252964ec8a7d953e0b37a79ce": {
     "model_module": "@jupyter-widgets/controls",
     "model_module_version": "1.5.0",
     "model_name": "DescriptionStyleModel",
     "state": {
      "_model_module": "@jupyter-widgets/controls",
      "_model_module_version": "1.5.0",
      "_model_name": "DescriptionStyleModel",
      "_view_count": null,
      "_view_module": "@jupyter-widgets/base",
      "_view_module_version": "1.2.0",
      "_view_name": "StyleView",
      "description_width": ""
     }
    },
    "74ca43cb263c427e8d3d5f483d49ac42": {
     "model_module": "@jupyter-widgets/base",
     "model_module_version": "1.2.0",
     "model_name": "LayoutModel",
     "state": {
      "_model_module": "@jupyter-widgets/base",
      "_model_module_version": "1.2.0",
      "_model_name": "LayoutModel",
      "_view_count": null,
      "_view_module": "@jupyter-widgets/base",
      "_view_module_version": "1.2.0",
      "_view_name": "LayoutView",
      "align_content": null,
      "align_items": null,
      "align_self": null,
      "border": null,
      "bottom": null,
      "display": null,
      "flex": null,
      "flex_flow": null,
      "grid_area": null,
      "grid_auto_columns": null,
      "grid_auto_flow": null,
      "grid_auto_rows": null,
      "grid_column": null,
      "grid_gap": null,
      "grid_row": null,
      "grid_template_areas": null,
      "grid_template_columns": null,
      "grid_template_rows": null,
      "height": null,
      "justify_content": null,
      "justify_items": null,
      "left": null,
      "margin": null,
      "max_height": null,
      "max_width": null,
      "min_height": null,
      "min_width": null,
      "object_fit": null,
      "object_position": null,
      "order": null,
      "overflow": null,
      "overflow_x": null,
      "overflow_y": null,
      "padding": null,
      "right": null,
      "top": null,
      "visibility": null,
      "width": null
     }
    },
    "76d7a54eede04c9c98e3107fd4abef3f": {
     "model_module": "@jupyter-widgets/controls",
     "model_module_version": "1.5.0",
     "model_name": "DescriptionStyleModel",
     "state": {
      "_model_module": "@jupyter-widgets/controls",
      "_model_module_version": "1.5.0",
      "_model_name": "DescriptionStyleModel",
      "_view_count": null,
      "_view_module": "@jupyter-widgets/base",
      "_view_module_version": "1.2.0",
      "_view_name": "StyleView",
      "description_width": ""
     }
    },
    "7929496c46fa43d9908e14d5cd9a5472": {
     "model_module": "@jupyter-widgets/base",
     "model_module_version": "1.2.0",
     "model_name": "LayoutModel",
     "state": {
      "_model_module": "@jupyter-widgets/base",
      "_model_module_version": "1.2.0",
      "_model_name": "LayoutModel",
      "_view_count": null,
      "_view_module": "@jupyter-widgets/base",
      "_view_module_version": "1.2.0",
      "_view_name": "LayoutView",
      "align_content": null,
      "align_items": null,
      "align_self": null,
      "border": null,
      "bottom": null,
      "display": null,
      "flex": null,
      "flex_flow": null,
      "grid_area": null,
      "grid_auto_columns": null,
      "grid_auto_flow": null,
      "grid_auto_rows": null,
      "grid_column": null,
      "grid_gap": null,
      "grid_row": null,
      "grid_template_areas": null,
      "grid_template_columns": null,
      "grid_template_rows": null,
      "height": null,
      "justify_content": null,
      "justify_items": null,
      "left": null,
      "margin": null,
      "max_height": null,
      "max_width": null,
      "min_height": null,
      "min_width": null,
      "object_fit": null,
      "object_position": null,
      "order": null,
      "overflow": null,
      "overflow_x": null,
      "overflow_y": null,
      "padding": null,
      "right": null,
      "top": null,
      "visibility": null,
      "width": null
     }
    },
    "7b51fb040c0745258149e6a57216d461": {
     "model_module": "@jupyter-widgets/controls",
     "model_module_version": "1.5.0",
     "model_name": "HBoxModel",
     "state": {
      "_dom_classes": [],
      "_model_module": "@jupyter-widgets/controls",
      "_model_module_version": "1.5.0",
      "_model_name": "HBoxModel",
      "_view_count": null,
      "_view_module": "@jupyter-widgets/controls",
      "_view_module_version": "1.5.0",
      "_view_name": "HBoxView",
      "box_style": "",
      "children": [
       "IPY_MODEL_1f1d4cf500c34a5ca946c32f0c0f7cf7",
       "IPY_MODEL_24d8ec101b884739b83ffc39a275b55e",
       "IPY_MODEL_63085ab0b4ee45309fe5fa9b02c424d8"
      ],
      "layout": "IPY_MODEL_e9a29df6ddf64866823d72c6c6f28316"
     }
    },
    "80f8e11d96a84f96a975300d88d23dbf": {
     "model_module": "@jupyter-widgets/base",
     "model_module_version": "1.2.0",
     "model_name": "LayoutModel",
     "state": {
      "_model_module": "@jupyter-widgets/base",
      "_model_module_version": "1.2.0",
      "_model_name": "LayoutModel",
      "_view_count": null,
      "_view_module": "@jupyter-widgets/base",
      "_view_module_version": "1.2.0",
      "_view_name": "LayoutView",
      "align_content": null,
      "align_items": null,
      "align_self": null,
      "border": null,
      "bottom": null,
      "display": null,
      "flex": null,
      "flex_flow": null,
      "grid_area": null,
      "grid_auto_columns": null,
      "grid_auto_flow": null,
      "grid_auto_rows": null,
      "grid_column": null,
      "grid_gap": null,
      "grid_row": null,
      "grid_template_areas": null,
      "grid_template_columns": null,
      "grid_template_rows": null,
      "height": null,
      "justify_content": null,
      "justify_items": null,
      "left": null,
      "margin": null,
      "max_height": null,
      "max_width": null,
      "min_height": null,
      "min_width": null,
      "object_fit": null,
      "object_position": null,
      "order": null,
      "overflow": null,
      "overflow_x": null,
      "overflow_y": null,
      "padding": null,
      "right": null,
      "top": null,
      "visibility": null,
      "width": null
     }
    },
    "851d1dc45111430fb31189664914cd38": {
     "model_module": "@jupyter-widgets/controls",
     "model_module_version": "1.5.0",
     "model_name": "DescriptionStyleModel",
     "state": {
      "_model_module": "@jupyter-widgets/controls",
      "_model_module_version": "1.5.0",
      "_model_name": "DescriptionStyleModel",
      "_view_count": null,
      "_view_module": "@jupyter-widgets/base",
      "_view_module_version": "1.2.0",
      "_view_name": "StyleView",
      "description_width": ""
     }
    },
    "8557f562132a482db83dbd6119fd85c0": {
     "model_module": "@jupyter-widgets/controls",
     "model_module_version": "1.5.0",
     "model_name": "HTMLModel",
     "state": {
      "_dom_classes": [],
      "_model_module": "@jupyter-widgets/controls",
      "_model_module_version": "1.5.0",
      "_model_name": "HTMLModel",
      "_view_count": null,
      "_view_module": "@jupyter-widgets/controls",
      "_view_module_version": "1.5.0",
      "_view_name": "HTMLView",
      "description": "",
      "description_tooltip": null,
      "layout": "IPY_MODEL_cf0e96f9450847c9b80425450ebacf1a",
      "placeholder": "​",
      "style": "IPY_MODEL_7378406252964ec8a7d953e0b37a79ce",
      "value": "Shuffling data_dir/svhn_cropped/incomplete.29I6G6_3.1.0/svhn_cropped-extra.tfrecord*...:  90%"
     }
    },
    "8681cb29bd68437497f0c61040afe178": {
     "model_module": "@jupyter-widgets/base",
     "model_module_version": "1.2.0",
     "model_name": "LayoutModel",
     "state": {
      "_model_module": "@jupyter-widgets/base",
      "_model_module_version": "1.2.0",
      "_model_name": "LayoutModel",
      "_view_count": null,
      "_view_module": "@jupyter-widgets/base",
      "_view_module_version": "1.2.0",
      "_view_name": "LayoutView",
      "align_content": null,
      "align_items": null,
      "align_self": null,
      "border": null,
      "bottom": null,
      "display": null,
      "flex": null,
      "flex_flow": null,
      "grid_area": null,
      "grid_auto_columns": null,
      "grid_auto_flow": null,
      "grid_auto_rows": null,
      "grid_column": null,
      "grid_gap": null,
      "grid_row": null,
      "grid_template_areas": null,
      "grid_template_columns": null,
      "grid_template_rows": null,
      "height": null,
      "justify_content": null,
      "justify_items": null,
      "left": null,
      "margin": null,
      "max_height": null,
      "max_width": null,
      "min_height": null,
      "min_width": null,
      "object_fit": null,
      "object_position": null,
      "order": null,
      "overflow": null,
      "overflow_x": null,
      "overflow_y": null,
      "padding": null,
      "right": null,
      "top": null,
      "visibility": null,
      "width": null
     }
    },
    "884cfbefcf9e4dcc871399e01258da2a": {
     "model_module": "@jupyter-widgets/controls",
     "model_module_version": "1.5.0",
     "model_name": "HTMLModel",
     "state": {
      "_dom_classes": [],
      "_model_module": "@jupyter-widgets/controls",
      "_model_module_version": "1.5.0",
      "_model_name": "HTMLModel",
      "_view_count": null,
      "_view_module": "@jupyter-widgets/controls",
      "_view_module_version": "1.5.0",
      "_view_name": "HTMLView",
      "description": "",
      "description_tooltip": null,
      "layout": "IPY_MODEL_9a5468061a2e40ee80e0764893af0c45",
      "placeholder": "​",
      "style": "IPY_MODEL_b51c812794034cc7b96b1e02c8716af8",
      "value": "Generating train examples...:  99%"
     }
    },
    "88bcfdd1b8294d0f8581af7f61edf7a4": {
     "model_module": "@jupyter-widgets/controls",
     "model_module_version": "1.5.0",
     "model_name": "DescriptionStyleModel",
     "state": {
      "_model_module": "@jupyter-widgets/controls",
      "_model_module_version": "1.5.0",
      "_model_name": "DescriptionStyleModel",
      "_view_count": null,
      "_view_module": "@jupyter-widgets/base",
      "_view_module_version": "1.2.0",
      "_view_name": "StyleView",
      "description_width": ""
     }
    },
    "89990f8cbe54421e9c8b1214daca8485": {
     "model_module": "@jupyter-widgets/controls",
     "model_module_version": "1.5.0",
     "model_name": "ProgressStyleModel",
     "state": {
      "_model_module": "@jupyter-widgets/controls",
      "_model_module_version": "1.5.0",
      "_model_name": "ProgressStyleModel",
      "_view_count": null,
      "_view_module": "@jupyter-widgets/base",
      "_view_module_version": "1.2.0",
      "_view_name": "StyleView",
      "bar_color": null,
      "description_width": ""
     }
    },
    "966ea959aa9942ec931573b4892a363f": {
     "model_module": "@jupyter-widgets/controls",
     "model_module_version": "1.5.0",
     "model_name": "DescriptionStyleModel",
     "state": {
      "_model_module": "@jupyter-widgets/controls",
      "_model_module_version": "1.5.0",
      "_model_name": "DescriptionStyleModel",
      "_view_count": null,
      "_view_module": "@jupyter-widgets/base",
      "_view_module_version": "1.2.0",
      "_view_name": "StyleView",
      "description_width": ""
     }
    },
    "979a251cf4ce4754b4a6944994549214": {
     "model_module": "@jupyter-widgets/controls",
     "model_module_version": "1.5.0",
     "model_name": "HBoxModel",
     "state": {
      "_dom_classes": [],
      "_model_module": "@jupyter-widgets/controls",
      "_model_module_version": "1.5.0",
      "_model_name": "HBoxModel",
      "_view_count": null,
      "_view_module": "@jupyter-widgets/controls",
      "_view_module_version": "1.5.0",
      "_view_name": "HBoxView",
      "box_style": "",
      "children": [
       "IPY_MODEL_8557f562132a482db83dbd6119fd85c0",
       "IPY_MODEL_fa25449b9b0d41039ce001d8cf834a82",
       "IPY_MODEL_0c08618582044c8ab31378cfd0c10b3e"
      ],
      "layout": "IPY_MODEL_0314a5dafcb34d22ab636b802abc529d"
     }
    },
    "97dda9c4160c45aca8b1442bca7ad291": {
     "model_module": "@jupyter-widgets/controls",
     "model_module_version": "1.5.0",
     "model_name": "FloatProgressModel",
     "state": {
      "_dom_classes": [],
      "_model_module": "@jupyter-widgets/controls",
      "_model_module_version": "1.5.0",
      "_model_name": "FloatProgressModel",
      "_view_count": null,
      "_view_module": "@jupyter-widgets/controls",
      "_view_module_version": "1.5.0",
      "_view_name": "ProgressView",
      "bar_style": "",
      "description": "",
      "description_tooltip": null,
      "layout": "IPY_MODEL_655d1a1007fd4e9caa3ce0d9eb47f3ee",
      "max": 531131,
      "min": 0,
      "orientation": "horizontal",
      "style": "IPY_MODEL_59aebfe26aaa440fbed5dcca6cf28790",
      "value": 531131
     }
    },
    "98a0b06c503a40ab94f0fa35d9166139": {
     "model_module": "@jupyter-widgets/controls",
     "model_module_version": "1.5.0",
     "model_name": "HBoxModel",
     "state": {
      "_dom_classes": [],
      "_model_module": "@jupyter-widgets/controls",
      "_model_module_version": "1.5.0",
      "_model_name": "HBoxModel",
      "_view_count": null,
      "_view_module": "@jupyter-widgets/controls",
      "_view_module_version": "1.5.0",
      "_view_name": "HBoxView",
      "box_style": "",
      "children": [
       "IPY_MODEL_631e909edc53441e87a5dfa46e9da43b",
       "IPY_MODEL_433abedc955749579f46e9f18076273b",
       "IPY_MODEL_0c687fbdca804ed6a431323f47064074"
      ],
      "layout": "IPY_MODEL_5b49f208a0584a96ba55b94ebbd40c96"
     }
    },
    "9a364de3adad48dd9a35dfba0bee3b45": {
     "model_module": "@jupyter-widgets/base",
     "model_module_version": "1.2.0",
     "model_name": "LayoutModel",
     "state": {
      "_model_module": "@jupyter-widgets/base",
      "_model_module_version": "1.2.0",
      "_model_name": "LayoutModel",
      "_view_count": null,
      "_view_module": "@jupyter-widgets/base",
      "_view_module_version": "1.2.0",
      "_view_name": "LayoutView",
      "align_content": null,
      "align_items": null,
      "align_self": null,
      "border": null,
      "bottom": null,
      "display": null,
      "flex": null,
      "flex_flow": null,
      "grid_area": null,
      "grid_auto_columns": null,
      "grid_auto_flow": null,
      "grid_auto_rows": null,
      "grid_column": null,
      "grid_gap": null,
      "grid_row": null,
      "grid_template_areas": null,
      "grid_template_columns": null,
      "grid_template_rows": null,
      "height": null,
      "justify_content": null,
      "justify_items": null,
      "left": null,
      "margin": null,
      "max_height": null,
      "max_width": null,
      "min_height": null,
      "min_width": null,
      "object_fit": null,
      "object_position": null,
      "order": null,
      "overflow": null,
      "overflow_x": null,
      "overflow_y": null,
      "padding": null,
      "right": null,
      "top": null,
      "visibility": "hidden",
      "width": null
     }
    },
    "9a5468061a2e40ee80e0764893af0c45": {
     "model_module": "@jupyter-widgets/base",
     "model_module_version": "1.2.0",
     "model_name": "LayoutModel",
     "state": {
      "_model_module": "@jupyter-widgets/base",
      "_model_module_version": "1.2.0",
      "_model_name": "LayoutModel",
      "_view_count": null,
      "_view_module": "@jupyter-widgets/base",
      "_view_module_version": "1.2.0",
      "_view_name": "LayoutView",
      "align_content": null,
      "align_items": null,
      "align_self": null,
      "border": null,
      "bottom": null,
      "display": null,
      "flex": null,
      "flex_flow": null,
      "grid_area": null,
      "grid_auto_columns": null,
      "grid_auto_flow": null,
      "grid_auto_rows": null,
      "grid_column": null,
      "grid_gap": null,
      "grid_row": null,
      "grid_template_areas": null,
      "grid_template_columns": null,
      "grid_template_rows": null,
      "height": null,
      "justify_content": null,
      "justify_items": null,
      "left": null,
      "margin": null,
      "max_height": null,
      "max_width": null,
      "min_height": null,
      "min_width": null,
      "object_fit": null,
      "object_position": null,
      "order": null,
      "overflow": null,
      "overflow_x": null,
      "overflow_y": null,
      "padding": null,
      "right": null,
      "top": null,
      "visibility": null,
      "width": null
     }
    },
    "9ad688aed3e540fdb0ea32921788b2b7": {
     "model_module": "@jupyter-widgets/controls",
     "model_module_version": "1.5.0",
     "model_name": "HTMLModel",
     "state": {
      "_dom_classes": [],
      "_model_module": "@jupyter-widgets/controls",
      "_model_module_version": "1.5.0",
      "_model_name": "HTMLModel",
      "_view_count": null,
      "_view_module": "@jupyter-widgets/controls",
      "_view_module_version": "1.5.0",
      "_view_name": "HTMLView",
      "description": "",
      "description_tooltip": null,
      "layout": "IPY_MODEL_80f8e11d96a84f96a975300d88d23dbf",
      "placeholder": "​",
      "style": "IPY_MODEL_5bebb6df40e54a07ad640537d41b134f",
      "value": "Generating test examples...:  96%"
     }
    },
    "a1e3ff1774a1487b98e00d1013c15841": {
     "model_module": "@jupyter-widgets/controls",
     "model_module_version": "1.5.0",
     "model_name": "HBoxModel",
     "state": {
      "_dom_classes": [],
      "_model_module": "@jupyter-widgets/controls",
      "_model_module_version": "1.5.0",
      "_model_name": "HBoxModel",
      "_view_count": null,
      "_view_module": "@jupyter-widgets/controls",
      "_view_module_version": "1.5.0",
      "_view_name": "HBoxView",
      "box_style": "",
      "children": [
       "IPY_MODEL_3f2e128f667e46309b1134f83f5ee0c2",
       "IPY_MODEL_d79b37a2931448da992fd327b2d0e66a",
       "IPY_MODEL_6b725ff68038400d85a889abbed5f0fb"
      ],
      "layout": "IPY_MODEL_49bc818d5d484039b011872984fc7fdb"
     }
    },
    "a593e100a02d45b086cfe0a19f65dcba": {
     "model_module": "@jupyter-widgets/controls",
     "model_module_version": "1.5.0",
     "model_name": "DescriptionStyleModel",
     "state": {
      "_model_module": "@jupyter-widgets/controls",
      "_model_module_version": "1.5.0",
      "_model_name": "DescriptionStyleModel",
      "_view_count": null,
      "_view_module": "@jupyter-widgets/base",
      "_view_module_version": "1.2.0",
      "_view_name": "StyleView",
      "description_width": ""
     }
    },
    "a5bb35a0e7b0478d80fa8cd8d9439715": {
     "model_module": "@jupyter-widgets/controls",
     "model_module_version": "1.5.0",
     "model_name": "ProgressStyleModel",
     "state": {
      "_model_module": "@jupyter-widgets/controls",
      "_model_module_version": "1.5.0",
      "_model_name": "ProgressStyleModel",
      "_view_count": null,
      "_view_module": "@jupyter-widgets/base",
      "_view_module_version": "1.2.0",
      "_view_name": "StyleView",
      "bar_color": null,
      "description_width": ""
     }
    },
    "a684242573dc4c9f869d8bcf895a568c": {
     "model_module": "@jupyter-widgets/base",
     "model_module_version": "1.2.0",
     "model_name": "LayoutModel",
     "state": {
      "_model_module": "@jupyter-widgets/base",
      "_model_module_version": "1.2.0",
      "_model_name": "LayoutModel",
      "_view_count": null,
      "_view_module": "@jupyter-widgets/base",
      "_view_module_version": "1.2.0",
      "_view_name": "LayoutView",
      "align_content": null,
      "align_items": null,
      "align_self": null,
      "border": null,
      "bottom": null,
      "display": null,
      "flex": null,
      "flex_flow": null,
      "grid_area": null,
      "grid_auto_columns": null,
      "grid_auto_flow": null,
      "grid_auto_rows": null,
      "grid_column": null,
      "grid_gap": null,
      "grid_row": null,
      "grid_template_areas": null,
      "grid_template_columns": null,
      "grid_template_rows": null,
      "height": null,
      "justify_content": null,
      "justify_items": null,
      "left": null,
      "margin": null,
      "max_height": null,
      "max_width": null,
      "min_height": null,
      "min_width": null,
      "object_fit": null,
      "object_position": null,
      "order": null,
      "overflow": null,
      "overflow_x": null,
      "overflow_y": null,
      "padding": null,
      "right": null,
      "top": null,
      "visibility": null,
      "width": "20px"
     }
    },
    "ac4dca0c194b4d868b21dfa70f1dcfed": {
     "model_module": "@jupyter-widgets/base",
     "model_module_version": "1.2.0",
     "model_name": "LayoutModel",
     "state": {
      "_model_module": "@jupyter-widgets/base",
      "_model_module_version": "1.2.0",
      "_model_name": "LayoutModel",
      "_view_count": null,
      "_view_module": "@jupyter-widgets/base",
      "_view_module_version": "1.2.0",
      "_view_name": "LayoutView",
      "align_content": null,
      "align_items": null,
      "align_self": null,
      "border": null,
      "bottom": null,
      "display": null,
      "flex": null,
      "flex_flow": null,
      "grid_area": null,
      "grid_auto_columns": null,
      "grid_auto_flow": null,
      "grid_auto_rows": null,
      "grid_column": null,
      "grid_gap": null,
      "grid_row": null,
      "grid_template_areas": null,
      "grid_template_columns": null,
      "grid_template_rows": null,
      "height": null,
      "justify_content": null,
      "justify_items": null,
      "left": null,
      "margin": null,
      "max_height": null,
      "max_width": null,
      "min_height": null,
      "min_width": null,
      "object_fit": null,
      "object_position": null,
      "order": null,
      "overflow": null,
      "overflow_x": null,
      "overflow_y": null,
      "padding": null,
      "right": null,
      "top": null,
      "visibility": null,
      "width": null
     }
    },
    "aec5eadbbd154a11861a337b270d058c": {
     "model_module": "@jupyter-widgets/controls",
     "model_module_version": "1.5.0",
     "model_name": "DescriptionStyleModel",
     "state": {
      "_model_module": "@jupyter-widgets/controls",
      "_model_module_version": "1.5.0",
      "_model_name": "DescriptionStyleModel",
      "_view_count": null,
      "_view_module": "@jupyter-widgets/base",
      "_view_module_version": "1.2.0",
      "_view_name": "StyleView",
      "description_width": ""
     }
    },
    "b02f10eb5e77438db2bf55e2d5afb2d7": {
     "model_module": "@jupyter-widgets/base",
     "model_module_version": "1.2.0",
     "model_name": "LayoutModel",
     "state": {
      "_model_module": "@jupyter-widgets/base",
      "_model_module_version": "1.2.0",
      "_model_name": "LayoutModel",
      "_view_count": null,
      "_view_module": "@jupyter-widgets/base",
      "_view_module_version": "1.2.0",
      "_view_name": "LayoutView",
      "align_content": null,
      "align_items": null,
      "align_self": null,
      "border": null,
      "bottom": null,
      "display": null,
      "flex": null,
      "flex_flow": null,
      "grid_area": null,
      "grid_auto_columns": null,
      "grid_auto_flow": null,
      "grid_auto_rows": null,
      "grid_column": null,
      "grid_gap": null,
      "grid_row": null,
      "grid_template_areas": null,
      "grid_template_columns": null,
      "grid_template_rows": null,
      "height": null,
      "justify_content": null,
      "justify_items": null,
      "left": null,
      "margin": null,
      "max_height": null,
      "max_width": null,
      "min_height": null,
      "min_width": null,
      "object_fit": null,
      "object_position": null,
      "order": null,
      "overflow": null,
      "overflow_x": null,
      "overflow_y": null,
      "padding": null,
      "right": null,
      "top": null,
      "visibility": "hidden",
      "width": null
     }
    },
    "b51c812794034cc7b96b1e02c8716af8": {
     "model_module": "@jupyter-widgets/controls",
     "model_module_version": "1.5.0",
     "model_name": "DescriptionStyleModel",
     "state": {
      "_model_module": "@jupyter-widgets/controls",
      "_model_module_version": "1.5.0",
      "_model_name": "DescriptionStyleModel",
      "_view_count": null,
      "_view_module": "@jupyter-widgets/base",
      "_view_module_version": "1.2.0",
      "_view_name": "StyleView",
      "description_width": ""
     }
    },
    "b76f2b17885042c6853f38e485cca459": {
     "model_module": "@jupyter-widgets/base",
     "model_module_version": "1.2.0",
     "model_name": "LayoutModel",
     "state": {
      "_model_module": "@jupyter-widgets/base",
      "_model_module_version": "1.2.0",
      "_model_name": "LayoutModel",
      "_view_count": null,
      "_view_module": "@jupyter-widgets/base",
      "_view_module_version": "1.2.0",
      "_view_name": "LayoutView",
      "align_content": null,
      "align_items": null,
      "align_self": null,
      "border": null,
      "bottom": null,
      "display": null,
      "flex": null,
      "flex_flow": null,
      "grid_area": null,
      "grid_auto_columns": null,
      "grid_auto_flow": null,
      "grid_auto_rows": null,
      "grid_column": null,
      "grid_gap": null,
      "grid_row": null,
      "grid_template_areas": null,
      "grid_template_columns": null,
      "grid_template_rows": null,
      "height": null,
      "justify_content": null,
      "justify_items": null,
      "left": null,
      "margin": null,
      "max_height": null,
      "max_width": null,
      "min_height": null,
      "min_width": null,
      "object_fit": null,
      "object_position": null,
      "order": null,
      "overflow": null,
      "overflow_x": null,
      "overflow_y": null,
      "padding": null,
      "right": null,
      "top": null,
      "visibility": null,
      "width": null
     }
    },
    "b98db5ab4dc84762bb5daf665d0cfe31": {
     "model_module": "@jupyter-widgets/controls",
     "model_module_version": "1.5.0",
     "model_name": "HBoxModel",
     "state": {
      "_dom_classes": [],
      "_model_module": "@jupyter-widgets/controls",
      "_model_module_version": "1.5.0",
      "_model_name": "HBoxModel",
      "_view_count": null,
      "_view_module": "@jupyter-widgets/controls",
      "_view_module_version": "1.5.0",
      "_view_name": "HBoxView",
      "box_style": "",
      "children": [
       "IPY_MODEL_884cfbefcf9e4dcc871399e01258da2a",
       "IPY_MODEL_fae06fa3fe3143a6821b453d6dbcc00d",
       "IPY_MODEL_0dfc740944ce43668c25ac3c5749f777"
      ],
      "layout": "IPY_MODEL_9a364de3adad48dd9a35dfba0bee3b45"
     }
    },
    "c06622165a3b40b782f70286b068c64d": {
     "model_module": "@jupyter-widgets/base",
     "model_module_version": "1.2.0",
     "model_name": "LayoutModel",
     "state": {
      "_model_module": "@jupyter-widgets/base",
      "_model_module_version": "1.2.0",
      "_model_name": "LayoutModel",
      "_view_count": null,
      "_view_module": "@jupyter-widgets/base",
      "_view_module_version": "1.2.0",
      "_view_name": "LayoutView",
      "align_content": null,
      "align_items": null,
      "align_self": null,
      "border": null,
      "bottom": null,
      "display": null,
      "flex": null,
      "flex_flow": null,
      "grid_area": null,
      "grid_auto_columns": null,
      "grid_auto_flow": null,
      "grid_auto_rows": null,
      "grid_column": null,
      "grid_gap": null,
      "grid_row": null,
      "grid_template_areas": null,
      "grid_template_columns": null,
      "grid_template_rows": null,
      "height": null,
      "justify_content": null,
      "justify_items": null,
      "left": null,
      "margin": null,
      "max_height": null,
      "max_width": null,
      "min_height": null,
      "min_width": null,
      "object_fit": null,
      "object_position": null,
      "order": null,
      "overflow": null,
      "overflow_x": null,
      "overflow_y": null,
      "padding": null,
      "right": null,
      "top": null,
      "visibility": null,
      "width": null
     }
    },
    "c121b9feebc44ba59d11ff5016b1aa0e": {
     "model_module": "@jupyter-widgets/controls",
     "model_module_version": "1.5.0",
     "model_name": "ProgressStyleModel",
     "state": {
      "_model_module": "@jupyter-widgets/controls",
      "_model_module_version": "1.5.0",
      "_model_name": "ProgressStyleModel",
      "_view_count": null,
      "_view_module": "@jupyter-widgets/base",
      "_view_module_version": "1.2.0",
      "_view_name": "StyleView",
      "bar_color": null,
      "description_width": ""
     }
    },
    "c927bb52707a44599c4c7f33551d5c97": {
     "model_module": "@jupyter-widgets/controls",
     "model_module_version": "1.5.0",
     "model_name": "FloatProgressModel",
     "state": {
      "_dom_classes": [],
      "_model_module": "@jupyter-widgets/controls",
      "_model_module_version": "1.5.0",
      "_model_name": "FloatProgressModel",
      "_view_count": null,
      "_view_module": "@jupyter-widgets/controls",
      "_view_module_version": "1.5.0",
      "_view_name": "ProgressView",
      "bar_style": "",
      "description": "",
      "description_tooltip": null,
      "layout": "IPY_MODEL_0b8bb552ad244d42b9533322686131e7",
      "max": 26032,
      "min": 0,
      "orientation": "horizontal",
      "style": "IPY_MODEL_f969257e3cfc4176ba569026bb2dda89",
      "value": 26032
     }
    },
    "cf0e96f9450847c9b80425450ebacf1a": {
     "model_module": "@jupyter-widgets/base",
     "model_module_version": "1.2.0",
     "model_name": "LayoutModel",
     "state": {
      "_model_module": "@jupyter-widgets/base",
      "_model_module_version": "1.2.0",
      "_model_name": "LayoutModel",
      "_view_count": null,
      "_view_module": "@jupyter-widgets/base",
      "_view_module_version": "1.2.0",
      "_view_name": "LayoutView",
      "align_content": null,
      "align_items": null,
      "align_self": null,
      "border": null,
      "bottom": null,
      "display": null,
      "flex": null,
      "flex_flow": null,
      "grid_area": null,
      "grid_auto_columns": null,
      "grid_auto_flow": null,
      "grid_auto_rows": null,
      "grid_column": null,
      "grid_gap": null,
      "grid_row": null,
      "grid_template_areas": null,
      "grid_template_columns": null,
      "grid_template_rows": null,
      "height": null,
      "justify_content": null,
      "justify_items": null,
      "left": null,
      "margin": null,
      "max_height": null,
      "max_width": null,
      "min_height": null,
      "min_width": null,
      "object_fit": null,
      "object_position": null,
      "order": null,
      "overflow": null,
      "overflow_x": null,
      "overflow_y": null,
      "padding": null,
      "right": null,
      "top": null,
      "visibility": null,
      "width": null
     }
    },
    "d088f0f6acf543bb80122868807b0c4a": {
     "model_module": "@jupyter-widgets/base",
     "model_module_version": "1.2.0",
     "model_name": "LayoutModel",
     "state": {
      "_model_module": "@jupyter-widgets/base",
      "_model_module_version": "1.2.0",
      "_model_name": "LayoutModel",
      "_view_count": null,
      "_view_module": "@jupyter-widgets/base",
      "_view_module_version": "1.2.0",
      "_view_name": "LayoutView",
      "align_content": null,
      "align_items": null,
      "align_self": null,
      "border": null,
      "bottom": null,
      "display": null,
      "flex": null,
      "flex_flow": null,
      "grid_area": null,
      "grid_auto_columns": null,
      "grid_auto_flow": null,
      "grid_auto_rows": null,
      "grid_column": null,
      "grid_gap": null,
      "grid_row": null,
      "grid_template_areas": null,
      "grid_template_columns": null,
      "grid_template_rows": null,
      "height": null,
      "justify_content": null,
      "justify_items": null,
      "left": null,
      "margin": null,
      "max_height": null,
      "max_width": null,
      "min_height": null,
      "min_width": null,
      "object_fit": null,
      "object_position": null,
      "order": null,
      "overflow": null,
      "overflow_x": null,
      "overflow_y": null,
      "padding": null,
      "right": null,
      "top": null,
      "visibility": null,
      "width": null
     }
    },
    "d50de704ec3b4e14801fdae63c9e5e03": {
     "model_module": "@jupyter-widgets/base",
     "model_module_version": "1.2.0",
     "model_name": "LayoutModel",
     "state": {
      "_model_module": "@jupyter-widgets/base",
      "_model_module_version": "1.2.0",
      "_model_name": "LayoutModel",
      "_view_count": null,
      "_view_module": "@jupyter-widgets/base",
      "_view_module_version": "1.2.0",
      "_view_name": "LayoutView",
      "align_content": null,
      "align_items": null,
      "align_self": null,
      "border": null,
      "bottom": null,
      "display": null,
      "flex": null,
      "flex_flow": null,
      "grid_area": null,
      "grid_auto_columns": null,
      "grid_auto_flow": null,
      "grid_auto_rows": null,
      "grid_column": null,
      "grid_gap": null,
      "grid_row": null,
      "grid_template_areas": null,
      "grid_template_columns": null,
      "grid_template_rows": null,
      "height": null,
      "justify_content": null,
      "justify_items": null,
      "left": null,
      "margin": null,
      "max_height": null,
      "max_width": null,
      "min_height": null,
      "min_width": null,
      "object_fit": null,
      "object_position": null,
      "order": null,
      "overflow": null,
      "overflow_x": null,
      "overflow_y": null,
      "padding": null,
      "right": null,
      "top": null,
      "visibility": "hidden",
      "width": null
     }
    },
    "d79b37a2931448da992fd327b2d0e66a": {
     "model_module": "@jupyter-widgets/controls",
     "model_module_version": "1.5.0",
     "model_name": "FloatProgressModel",
     "state": {
      "_dom_classes": [],
      "_model_module": "@jupyter-widgets/controls",
      "_model_module_version": "1.5.0",
      "_model_name": "FloatProgressModel",
      "_view_count": null,
      "_view_module": "@jupyter-widgets/controls",
      "_view_module_version": "1.5.0",
      "_view_name": "ProgressView",
      "bar_style": "",
      "description": "",
      "description_tooltip": null,
      "layout": "IPY_MODEL_208dd952680f4e0a9b50f12b933cc647",
      "max": 73257,
      "min": 0,
      "orientation": "horizontal",
      "style": "IPY_MODEL_3d996de8e707478fad34b91a8bee4f97",
      "value": 73257
     }
    },
    "d88d6496d8ca4d309020685ef503980d": {
     "model_module": "@jupyter-widgets/base",
     "model_module_version": "1.2.0",
     "model_name": "LayoutModel",
     "state": {
      "_model_module": "@jupyter-widgets/base",
      "_model_module_version": "1.2.0",
      "_model_name": "LayoutModel",
      "_view_count": null,
      "_view_module": "@jupyter-widgets/base",
      "_view_module_version": "1.2.0",
      "_view_name": "LayoutView",
      "align_content": null,
      "align_items": null,
      "align_self": null,
      "border": null,
      "bottom": null,
      "display": null,
      "flex": null,
      "flex_flow": null,
      "grid_area": null,
      "grid_auto_columns": null,
      "grid_auto_flow": null,
      "grid_auto_rows": null,
      "grid_column": null,
      "grid_gap": null,
      "grid_row": null,
      "grid_template_areas": null,
      "grid_template_columns": null,
      "grid_template_rows": null,
      "height": null,
      "justify_content": null,
      "justify_items": null,
      "left": null,
      "margin": null,
      "max_height": null,
      "max_width": null,
      "min_height": null,
      "min_width": null,
      "object_fit": null,
      "object_position": null,
      "order": null,
      "overflow": null,
      "overflow_x": null,
      "overflow_y": null,
      "padding": null,
      "right": null,
      "top": null,
      "visibility": null,
      "width": null
     }
    },
    "db9dcf4f40e24e4094c8073f6b28ba2e": {
     "model_module": "@jupyter-widgets/controls",
     "model_module_version": "1.5.0",
     "model_name": "DescriptionStyleModel",
     "state": {
      "_model_module": "@jupyter-widgets/controls",
      "_model_module_version": "1.5.0",
      "_model_name": "DescriptionStyleModel",
      "_view_count": null,
      "_view_module": "@jupyter-widgets/base",
      "_view_module_version": "1.2.0",
      "_view_name": "StyleView",
      "description_width": ""
     }
    },
    "dc13796a3611411bbad2b86cdaa04972": {
     "model_module": "@jupyter-widgets/controls",
     "model_module_version": "1.5.0",
     "model_name": "HTMLModel",
     "state": {
      "_dom_classes": [],
      "_model_module": "@jupyter-widgets/controls",
      "_model_module_version": "1.5.0",
      "_model_name": "HTMLModel",
      "_view_count": null,
      "_view_module": "@jupyter-widgets/controls",
      "_view_module_version": "1.5.0",
      "_view_name": "HTMLView",
      "description": "",
      "description_tooltip": null,
      "layout": "IPY_MODEL_d88d6496d8ca4d309020685ef503980d",
      "placeholder": "​",
      "style": "IPY_MODEL_851d1dc45111430fb31189664914cd38",
      "value": "Dl Size...: 100%"
     }
    },
    "dca7c490d02148fb8dcfecbab5bee163": {
     "model_module": "@jupyter-widgets/controls",
     "model_module_version": "1.5.0",
     "model_name": "DescriptionStyleModel",
     "state": {
      "_model_module": "@jupyter-widgets/controls",
      "_model_module_version": "1.5.0",
      "_model_name": "DescriptionStyleModel",
      "_view_count": null,
      "_view_module": "@jupyter-widgets/base",
      "_view_module_version": "1.2.0",
      "_view_name": "StyleView",
      "description_width": ""
     }
    },
    "ddccef96f0e7476c976c0463ae6e50ac": {
     "model_module": "@jupyter-widgets/base",
     "model_module_version": "1.2.0",
     "model_name": "LayoutModel",
     "state": {
      "_model_module": "@jupyter-widgets/base",
      "_model_module_version": "1.2.0",
      "_model_name": "LayoutModel",
      "_view_count": null,
      "_view_module": "@jupyter-widgets/base",
      "_view_module_version": "1.2.0",
      "_view_name": "LayoutView",
      "align_content": null,
      "align_items": null,
      "align_self": null,
      "border": null,
      "bottom": null,
      "display": null,
      "flex": null,
      "flex_flow": null,
      "grid_area": null,
      "grid_auto_columns": null,
      "grid_auto_flow": null,
      "grid_auto_rows": null,
      "grid_column": null,
      "grid_gap": null,
      "grid_row": null,
      "grid_template_areas": null,
      "grid_template_columns": null,
      "grid_template_rows": null,
      "height": null,
      "justify_content": null,
      "justify_items": null,
      "left": null,
      "margin": null,
      "max_height": null,
      "max_width": null,
      "min_height": null,
      "min_width": null,
      "object_fit": null,
      "object_position": null,
      "order": null,
      "overflow": null,
      "overflow_x": null,
      "overflow_y": null,
      "padding": null,
      "right": null,
      "top": null,
      "visibility": null,
      "width": null
     }
    },
    "e0c0bc60c05f4bcd9916a32fc2a36865": {
     "model_module": "@jupyter-widgets/controls",
     "model_module_version": "1.5.0",
     "model_name": "FloatProgressModel",
     "state": {
      "_dom_classes": [],
      "_model_module": "@jupyter-widgets/controls",
      "_model_module_version": "1.5.0",
      "_model_name": "FloatProgressModel",
      "_view_count": null,
      "_view_module": "@jupyter-widgets/controls",
      "_view_module_version": "1.5.0",
      "_view_name": "ProgressView",
      "bar_style": "",
      "description": "",
      "description_tooltip": null,
      "layout": "IPY_MODEL_ffbfafc04f734382a3fd9661b84dc706",
      "max": 26032,
      "min": 0,
      "orientation": "horizontal",
      "style": "IPY_MODEL_eebbed72e7034c3e87951f260ccf5c74",
      "value": 26032
     }
    },
    "e5b357c610fd4db8b8edf9b7d6c26b89": {
     "model_module": "@jupyter-widgets/base",
     "model_module_version": "1.2.0",
     "model_name": "LayoutModel",
     "state": {
      "_model_module": "@jupyter-widgets/base",
      "_model_module_version": "1.2.0",
      "_model_name": "LayoutModel",
      "_view_count": null,
      "_view_module": "@jupyter-widgets/base",
      "_view_module_version": "1.2.0",
      "_view_name": "LayoutView",
      "align_content": null,
      "align_items": null,
      "align_self": null,
      "border": null,
      "bottom": null,
      "display": null,
      "flex": null,
      "flex_flow": null,
      "grid_area": null,
      "grid_auto_columns": null,
      "grid_auto_flow": null,
      "grid_auto_rows": null,
      "grid_column": null,
      "grid_gap": null,
      "grid_row": null,
      "grid_template_areas": null,
      "grid_template_columns": null,
      "grid_template_rows": null,
      "height": null,
      "justify_content": null,
      "justify_items": null,
      "left": null,
      "margin": null,
      "max_height": null,
      "max_width": null,
      "min_height": null,
      "min_width": null,
      "object_fit": null,
      "object_position": null,
      "order": null,
      "overflow": null,
      "overflow_x": null,
      "overflow_y": null,
      "padding": null,
      "right": null,
      "top": null,
      "visibility": null,
      "width": "20px"
     }
    },
    "e95c0b68b96641d8af6978740c74a2c7": {
     "model_module": "@jupyter-widgets/base",
     "model_module_version": "1.2.0",
     "model_name": "LayoutModel",
     "state": {
      "_model_module": "@jupyter-widgets/base",
      "_model_module_version": "1.2.0",
      "_model_name": "LayoutModel",
      "_view_count": null,
      "_view_module": "@jupyter-widgets/base",
      "_view_module_version": "1.2.0",
      "_view_name": "LayoutView",
      "align_content": null,
      "align_items": null,
      "align_self": null,
      "border": null,
      "bottom": null,
      "display": null,
      "flex": null,
      "flex_flow": null,
      "grid_area": null,
      "grid_auto_columns": null,
      "grid_auto_flow": null,
      "grid_auto_rows": null,
      "grid_column": null,
      "grid_gap": null,
      "grid_row": null,
      "grid_template_areas": null,
      "grid_template_columns": null,
      "grid_template_rows": null,
      "height": null,
      "justify_content": null,
      "justify_items": null,
      "left": null,
      "margin": null,
      "max_height": null,
      "max_width": null,
      "min_height": null,
      "min_width": null,
      "object_fit": null,
      "object_position": null,
      "order": null,
      "overflow": null,
      "overflow_x": null,
      "overflow_y": null,
      "padding": null,
      "right": null,
      "top": null,
      "visibility": null,
      "width": null
     }
    },
    "e9a29df6ddf64866823d72c6c6f28316": {
     "model_module": "@jupyter-widgets/base",
     "model_module_version": "1.2.0",
     "model_name": "LayoutModel",
     "state": {
      "_model_module": "@jupyter-widgets/base",
      "_model_module_version": "1.2.0",
      "_model_name": "LayoutModel",
      "_view_count": null,
      "_view_module": "@jupyter-widgets/base",
      "_view_module_version": "1.2.0",
      "_view_name": "LayoutView",
      "align_content": null,
      "align_items": null,
      "align_self": null,
      "border": null,
      "bottom": null,
      "display": null,
      "flex": null,
      "flex_flow": null,
      "grid_area": null,
      "grid_auto_columns": null,
      "grid_auto_flow": null,
      "grid_auto_rows": null,
      "grid_column": null,
      "grid_gap": null,
      "grid_row": null,
      "grid_template_areas": null,
      "grid_template_columns": null,
      "grid_template_rows": null,
      "height": null,
      "justify_content": null,
      "justify_items": null,
      "left": null,
      "margin": null,
      "max_height": null,
      "max_width": null,
      "min_height": null,
      "min_width": null,
      "object_fit": null,
      "object_position": null,
      "order": null,
      "overflow": null,
      "overflow_x": null,
      "overflow_y": null,
      "padding": null,
      "right": null,
      "top": null,
      "visibility": "hidden",
      "width": null
     }
    },
    "ee83168658434125af2fa4f6df02d2ab": {
     "model_module": "@jupyter-widgets/base",
     "model_module_version": "1.2.0",
     "model_name": "LayoutModel",
     "state": {
      "_model_module": "@jupyter-widgets/base",
      "_model_module_version": "1.2.0",
      "_model_name": "LayoutModel",
      "_view_count": null,
      "_view_module": "@jupyter-widgets/base",
      "_view_module_version": "1.2.0",
      "_view_name": "LayoutView",
      "align_content": null,
      "align_items": null,
      "align_self": null,
      "border": null,
      "bottom": null,
      "display": null,
      "flex": null,
      "flex_flow": null,
      "grid_area": null,
      "grid_auto_columns": null,
      "grid_auto_flow": null,
      "grid_auto_rows": null,
      "grid_column": null,
      "grid_gap": null,
      "grid_row": null,
      "grid_template_areas": null,
      "grid_template_columns": null,
      "grid_template_rows": null,
      "height": null,
      "justify_content": null,
      "justify_items": null,
      "left": null,
      "margin": null,
      "max_height": null,
      "max_width": null,
      "min_height": null,
      "min_width": null,
      "object_fit": null,
      "object_position": null,
      "order": null,
      "overflow": null,
      "overflow_x": null,
      "overflow_y": null,
      "padding": null,
      "right": null,
      "top": null,
      "visibility": null,
      "width": null
     }
    },
    "eebbed72e7034c3e87951f260ccf5c74": {
     "model_module": "@jupyter-widgets/controls",
     "model_module_version": "1.5.0",
     "model_name": "ProgressStyleModel",
     "state": {
      "_model_module": "@jupyter-widgets/controls",
      "_model_module_version": "1.5.0",
      "_model_name": "ProgressStyleModel",
      "_view_count": null,
      "_view_module": "@jupyter-widgets/base",
      "_view_module_version": "1.2.0",
      "_view_name": "StyleView",
      "bar_color": null,
      "description_width": ""
     }
    },
    "f4b1a2ba11aa4966a347ca690124f308": {
     "model_module": "@jupyter-widgets/base",
     "model_module_version": "1.2.0",
     "model_name": "LayoutModel",
     "state": {
      "_model_module": "@jupyter-widgets/base",
      "_model_module_version": "1.2.0",
      "_model_name": "LayoutModel",
      "_view_count": null,
      "_view_module": "@jupyter-widgets/base",
      "_view_module_version": "1.2.0",
      "_view_name": "LayoutView",
      "align_content": null,
      "align_items": null,
      "align_self": null,
      "border": null,
      "bottom": null,
      "display": null,
      "flex": null,
      "flex_flow": null,
      "grid_area": null,
      "grid_auto_columns": null,
      "grid_auto_flow": null,
      "grid_auto_rows": null,
      "grid_column": null,
      "grid_gap": null,
      "grid_row": null,
      "grid_template_areas": null,
      "grid_template_columns": null,
      "grid_template_rows": null,
      "height": null,
      "justify_content": null,
      "justify_items": null,
      "left": null,
      "margin": null,
      "max_height": null,
      "max_width": null,
      "min_height": null,
      "min_width": null,
      "object_fit": null,
      "object_position": null,
      "order": null,
      "overflow": null,
      "overflow_x": null,
      "overflow_y": null,
      "padding": null,
      "right": null,
      "top": null,
      "visibility": null,
      "width": null
     }
    },
    "f88b680bc70e41d694e74c4cbbd555bd": {
     "model_module": "@jupyter-widgets/controls",
     "model_module_version": "1.5.0",
     "model_name": "DescriptionStyleModel",
     "state": {
      "_model_module": "@jupyter-widgets/controls",
      "_model_module_version": "1.5.0",
      "_model_name": "DescriptionStyleModel",
      "_view_count": null,
      "_view_module": "@jupyter-widgets/base",
      "_view_module_version": "1.2.0",
      "_view_name": "StyleView",
      "description_width": ""
     }
    },
    "f969257e3cfc4176ba569026bb2dda89": {
     "model_module": "@jupyter-widgets/controls",
     "model_module_version": "1.5.0",
     "model_name": "ProgressStyleModel",
     "state": {
      "_model_module": "@jupyter-widgets/controls",
      "_model_module_version": "1.5.0",
      "_model_name": "ProgressStyleModel",
      "_view_count": null,
      "_view_module": "@jupyter-widgets/base",
      "_view_module_version": "1.2.0",
      "_view_name": "StyleView",
      "bar_color": null,
      "description_width": ""
     }
    },
    "fa25449b9b0d41039ce001d8cf834a82": {
     "model_module": "@jupyter-widgets/controls",
     "model_module_version": "1.5.0",
     "model_name": "FloatProgressModel",
     "state": {
      "_dom_classes": [],
      "_model_module": "@jupyter-widgets/controls",
      "_model_module_version": "1.5.0",
      "_model_name": "FloatProgressModel",
      "_view_count": null,
      "_view_module": "@jupyter-widgets/controls",
      "_view_module_version": "1.5.0",
      "_view_name": "ProgressView",
      "bar_style": "",
      "description": "",
      "description_tooltip": null,
      "layout": "IPY_MODEL_8681cb29bd68437497f0c61040afe178",
      "max": 531131,
      "min": 0,
      "orientation": "horizontal",
      "style": "IPY_MODEL_89990f8cbe54421e9c8b1214daca8485",
      "value": 531131
     }
    },
    "fae06fa3fe3143a6821b453d6dbcc00d": {
     "model_module": "@jupyter-widgets/controls",
     "model_module_version": "1.5.0",
     "model_name": "FloatProgressModel",
     "state": {
      "_dom_classes": [],
      "_model_module": "@jupyter-widgets/controls",
      "_model_module_version": "1.5.0",
      "_model_name": "FloatProgressModel",
      "_view_count": null,
      "_view_module": "@jupyter-widgets/controls",
      "_view_module_version": "1.5.0",
      "_view_name": "ProgressView",
      "bar_style": "",
      "description": "",
      "description_tooltip": null,
      "layout": "IPY_MODEL_7929496c46fa43d9908e14d5cd9a5472",
      "max": 73257,
      "min": 0,
      "orientation": "horizontal",
      "style": "IPY_MODEL_a5bb35a0e7b0478d80fa8cd8d9439715",
      "value": 73257
     }
    },
    "fe598ee3a702497c8f46ee5d00ddfb7f": {
     "model_module": "@jupyter-widgets/controls",
     "model_module_version": "1.5.0",
     "model_name": "FloatProgressModel",
     "state": {
      "_dom_classes": [],
      "_model_module": "@jupyter-widgets/controls",
      "_model_module_version": "1.5.0",
      "_model_name": "FloatProgressModel",
      "_view_count": null,
      "_view_module": "@jupyter-widgets/controls",
      "_view_module_version": "1.5.0",
      "_view_name": "ProgressView",
      "bar_style": "success",
      "description": "",
      "description_tooltip": null,
      "layout": "IPY_MODEL_ee83168658434125af2fa4f6df02d2ab",
      "max": 5,
      "min": 0,
      "orientation": "horizontal",
      "style": "IPY_MODEL_26cb4b15afdf4a23b7cb796127b9e129",
      "value": 5
     }
    },
    "ffbfafc04f734382a3fd9661b84dc706": {
     "model_module": "@jupyter-widgets/base",
     "model_module_version": "1.2.0",
     "model_name": "LayoutModel",
     "state": {
      "_model_module": "@jupyter-widgets/base",
      "_model_module_version": "1.2.0",
      "_model_name": "LayoutModel",
      "_view_count": null,
      "_view_module": "@jupyter-widgets/base",
      "_view_module_version": "1.2.0",
      "_view_name": "LayoutView",
      "align_content": null,
      "align_items": null,
      "align_self": null,
      "border": null,
      "bottom": null,
      "display": null,
      "flex": null,
      "flex_flow": null,
      "grid_area": null,
      "grid_auto_columns": null,
      "grid_auto_flow": null,
      "grid_auto_rows": null,
      "grid_column": null,
      "grid_gap": null,
      "grid_row": null,
      "grid_template_areas": null,
      "grid_template_columns": null,
      "grid_template_rows": null,
      "height": null,
      "justify_content": null,
      "justify_items": null,
      "left": null,
      "margin": null,
      "max_height": null,
      "max_width": null,
      "min_height": null,
      "min_width": null,
      "object_fit": null,
      "object_position": null,
      "order": null,
      "overflow": null,
      "overflow_x": null,
      "overflow_y": null,
      "padding": null,
      "right": null,
      "top": null,
      "visibility": null,
      "width": null
     }
    }
   }
  }
 },
 "nbformat": 4,
 "nbformat_minor": 5
}
